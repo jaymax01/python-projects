{
 "cells": [
  {
   "cell_type": "markdown",
   "metadata": {},
   "source": [
    "# Popular Data Science Questions"
   ]
  },
  {
   "cell_type": "markdown",
   "metadata": {
    "collapsed": true
   },
   "source": [
    "Stack Exchange sites hosts questions on different subjects and fields such as mathematics, physics, philosophy and data science. questions posted on the sites have a reputation reward system where good questions or answers are easily indentifiable by upvotes while those questions that are not as important get downvotes. \n",
    "\n",
    "This project will help content writers for a data science Stack Exchange site determine What is it that people want to learn about in data science. Some reputable Stack Excahnge sites relevant to data science are Stack Overflow, Stack Exchange, Ask Ubuntu and Mathematics. \n",
    "\n",
    "Data Science Stack Exchange (DSSE) is dedicated to data science and has a lot of unanswered questions. The site will be the focus of the project."
   ]
  },
  {
   "cell_type": "markdown",
   "metadata": {},
   "source": [
    "# Information on Data Science Stack Exchange "
   ]
  },
  {
   "cell_type": "markdown",
   "metadata": {},
   "source": [
    "On DSSE's help center's [section on questions](https://datascience.stackexchange.com/help/asking) , we can read that we should:\n",
    "\n",
    "* Avoid subjective questions.\n",
    "* Ask practical questions about Data Science — there are adequate sites   for theoretical questions.\n",
    "* Ask specific questions.\n",
    "* Make questions relevant to others.\n",
    "\n",
    "Aditional guidelines to asking relevant questions relating can be found here as well\n",
    "\n",
    "* For data requests [Open Data](https://opendata.stackexchange.com/help/on-topic)\n",
    "* For software packages and algorithmns in applied mathematics [Computational science](https://scicomp.stackexchange.com/help/on-topic)\n",
    "\n",
    "From the homepage of DSSE there are four sections for classifying questions\n",
    "\n",
    "* [Questions](https://datascience.stackexchange.com/questions) list of questions asked\n",
    "* [Tags](https://datascience.stackexchange.com/tags) list of tags that categories questions. Tags belong to different topic categories such as machine learning, python, neural network, deep-learning, scikit-learn, tensorflow and others.\n",
    "* [Users](https://datascience.stackexchange.com/users) a list of users\n",
    "* [Unanswered](https://datascience.stackexchange.com/unanswered) list of unanswered questions\n",
    "\n",
    "The tagging system will be useful to quantify the questions answered for a given section. Moderation by the community also will be reliable in drawing conclusions using the tagging system. \n",
    "\n",
    "Information for each post has the following:\n",
    "\n",
    "* For both questions and answers:\n",
    " * The posts's score;\n",
    " * The posts's title;\n",
    " * The posts's author;\n",
    " * The posts's body;\n",
    "* For questions only:\n",
    " * How many users have it on their \"\n",
    " * The last time the question as active;\n",
    " * How many times the question was viewed;\n",
    " * Related questions;\n",
    " * The question's tags;"
   ]
  },
  {
   "cell_type": "markdown",
   "metadata": {
    "collapsed": true
   },
   "source": [
    " # Stack Exchange Data Explorer"
   ]
  },
  {
   "cell_type": "markdown",
   "metadata": {},
   "source": [
    "Some of the tables in the data explorer are relevant to the project. Those tables include the following:\n",
    "\n",
    "* Posts\n",
    "* PostTags\n",
    "* Tags\n",
    "* TagSynonyms\n",
    "\n",
    "Running some queries on the tags table give good results showing questions posted for each tag category however, how recent the posts were made is unknown. \n",
    "\n",
    "For this purpose the posts table will be more relevant for the project than the tag table. The tag table look like the following at this [link](https://data.stackexchange.com/datascience/query/edit/1203637#resultSets) when the following query is run \n",
    "\n",
    "    SELECT * FROM tags;\n",
    "\n",
    "Running the following query will give the posts table below of relevant data for the project with the date of each post as of 2019. The table can be viewed [here](https://data.stackexchange.com/datascience/query/edit/1203637#resultSets).\n",
    "\n",
    "    SELECT Id, CreationDate,\n",
    "        Score, ViewCount, Tags,\n",
    "        AnswerCount, FavoriteCount\n",
    "    FROM posts\n",
    "    WHERE PostTypeId = 1 AND YEAR(CreationDate) = 2019;\n",
    " \n"
   ]
  },
  {
   "cell_type": "markdown",
   "metadata": {
    "collapsed": true
   },
   "source": [
    "# Data Exploration"
   ]
  },
  {
   "cell_type": "markdown",
   "metadata": {},
   "source": [
    "The CreationDate column would be parsed as a datetime object when reading the dataset"
   ]
  },
  {
   "cell_type": "code",
   "execution_count": 1,
   "metadata": {
    "collapsed": true
   },
   "outputs": [],
   "source": [
    "# Importing the needed classes\n",
    "\n",
    "import pandas as pd\n",
    "import matplotlib.pyplot as plt\n",
    "import seaborn as sns\n",
    "\n",
    "%matplotlib inline"
   ]
  },
  {
   "cell_type": "code",
   "execution_count": 2,
   "metadata": {
    "collapsed": true
   },
   "outputs": [],
   "source": [
    "questions = pd.read_csv('2019_questions.csv', parse_dates = [\"CreationDate\"])"
   ]
  },
  {
   "cell_type": "code",
   "execution_count": 3,
   "metadata": {
    "collapsed": false
   },
   "outputs": [
    {
     "name": "stdout",
     "output_type": "stream",
     "text": [
      "<class 'pandas.core.frame.DataFrame'>\n",
      "RangeIndex: 8839 entries, 0 to 8838\n",
      "Data columns (total 7 columns):\n",
      "Id               8839 non-null int64\n",
      "CreationDate     8839 non-null datetime64[ns]\n",
      "Score            8839 non-null int64\n",
      "ViewCount        8839 non-null int64\n",
      "Tags             8839 non-null object\n",
      "AnswerCount      8839 non-null int64\n",
      "FavoriteCount    1407 non-null float64\n",
      "dtypes: datetime64[ns](1), float64(1), int64(4), object(1)\n",
      "memory usage: 483.5+ KB\n"
     ]
    }
   ],
   "source": [
    "questions.info()"
   ]
  },
  {
   "cell_type": "markdown",
   "metadata": {},
   "source": [
    "There are no missing values for the columns except for the FavoriteCount column. A questions without a favorite count means that that question was not in any users' favorites list and can be filled with a zero. \n",
    "\n",
    "The datatypes for all of the columns are appropriate except for the Tags column and the favoriteCount column. Since the FavoriteCount has zeros it would be appropriate to change the column type to an int. \n",
    "\n",
    "Exploring the datatype of each entry of the Tags column the dataype of each is a string. Questions can each have their tags put in list and can be kept the way they are instead of creating different columns for each tag."
   ]
  },
  {
   "cell_type": "code",
   "execution_count": 4,
   "metadata": {
    "collapsed": false
   },
   "outputs": [
    {
     "data": {
      "text/plain": [
       "array([<class 'str'>], dtype=object)"
      ]
     },
     "execution_count": 4,
     "metadata": {},
     "output_type": "execute_result"
    }
   ],
   "source": [
    "questions['Tags'].apply(lambda value: type(value)).unique()"
   ]
  },
  {
   "cell_type": "markdown",
   "metadata": {},
   "source": [
    "# Cleaning The Data"
   ]
  },
  {
   "cell_type": "markdown",
   "metadata": {},
   "source": [
    "Fixing the FavoriteCount column"
   ]
  },
  {
   "cell_type": "code",
   "execution_count": 5,
   "metadata": {
    "collapsed": false
   },
   "outputs": [
    {
     "data": {
      "text/plain": [
       "Id                        int64\n",
       "CreationDate     datetime64[ns]\n",
       "Score                     int64\n",
       "ViewCount                 int64\n",
       "Tags                     object\n",
       "AnswerCount               int64\n",
       "FavoriteCount             int64\n",
       "dtype: object"
      ]
     },
     "execution_count": 5,
     "metadata": {},
     "output_type": "execute_result"
    }
   ],
   "source": [
    "questions.fillna(value={\"FavoriteCount\": 0}, inplace=True)\n",
    "questions[\"FavoriteCount\"] = questions[\"FavoriteCount\"].astype(int)\n",
    "questions.dtypes"
   ]
  },
  {
   "cell_type": "code",
   "execution_count": 6,
   "metadata": {
    "collapsed": false
   },
   "outputs": [
    {
     "data": {
      "text/html": [
       "<div>\n",
       "<style scoped>\n",
       "    .dataframe tbody tr th:only-of-type {\n",
       "        vertical-align: middle;\n",
       "    }\n",
       "\n",
       "    .dataframe tbody tr th {\n",
       "        vertical-align: top;\n",
       "    }\n",
       "\n",
       "    .dataframe thead th {\n",
       "        text-align: right;\n",
       "    }\n",
       "</style>\n",
       "<table border=\"1\" class=\"dataframe\">\n",
       "  <thead>\n",
       "    <tr style=\"text-align: right;\">\n",
       "      <th></th>\n",
       "      <th>Id</th>\n",
       "      <th>CreationDate</th>\n",
       "      <th>Score</th>\n",
       "      <th>ViewCount</th>\n",
       "      <th>Tags</th>\n",
       "      <th>AnswerCount</th>\n",
       "      <th>FavoriteCount</th>\n",
       "    </tr>\n",
       "  </thead>\n",
       "  <tbody>\n",
       "    <tr>\n",
       "      <th>0</th>\n",
       "      <td>44419</td>\n",
       "      <td>2019-01-23 09:21:13</td>\n",
       "      <td>1</td>\n",
       "      <td>21</td>\n",
       "      <td>[machine-learning, data-mining]</td>\n",
       "      <td>0</td>\n",
       "      <td>0</td>\n",
       "    </tr>\n",
       "    <tr>\n",
       "      <th>1</th>\n",
       "      <td>44420</td>\n",
       "      <td>2019-01-23 09:34:01</td>\n",
       "      <td>0</td>\n",
       "      <td>25</td>\n",
       "      <td>[machine-learning, regression, linear-regressi...</td>\n",
       "      <td>0</td>\n",
       "      <td>0</td>\n",
       "    </tr>\n",
       "    <tr>\n",
       "      <th>2</th>\n",
       "      <td>44423</td>\n",
       "      <td>2019-01-23 09:58:41</td>\n",
       "      <td>2</td>\n",
       "      <td>1651</td>\n",
       "      <td>[python, time-series, forecast, forecasting]</td>\n",
       "      <td>0</td>\n",
       "      <td>0</td>\n",
       "    </tr>\n",
       "  </tbody>\n",
       "</table>\n",
       "</div>"
      ],
      "text/plain": [
       "      Id        CreationDate  Score  ViewCount  \\\n",
       "0  44419 2019-01-23 09:21:13      1         21   \n",
       "1  44420 2019-01-23 09:34:01      0         25   \n",
       "2  44423 2019-01-23 09:58:41      2       1651   \n",
       "\n",
       "                                                Tags  AnswerCount  \\\n",
       "0                    [machine-learning, data-mining]            0   \n",
       "1  [machine-learning, regression, linear-regressi...            0   \n",
       "2       [python, time-series, forecast, forecasting]            0   \n",
       "\n",
       "   FavoriteCount  \n",
       "0              0  \n",
       "1              0  \n",
       "2              0  "
      ]
     },
     "execution_count": 6,
     "metadata": {},
     "output_type": "execute_result"
    }
   ],
   "source": [
    "# Converting the Tag column string into a list\n",
    "\n",
    "questions['Tags'] = questions['Tags'].str.replace('^<|>$', '').str.split('><')\n",
    "questions.head(3)"
   ]
  },
  {
   "cell_type": "markdown",
   "metadata": {
    "collapsed": true
   },
   "source": [
    "# Most Used and Most Viewed Tags"
   ]
  },
  {
   "cell_type": "code",
   "execution_count": 7,
   "metadata": {
    "collapsed": false
   },
   "outputs": [],
   "source": [
    "# Counting the number of times each tag was used\n",
    "\n",
    "tag_count = dict()\n",
    "\n",
    "for tags in questions['Tags']:\n",
    "    for tag in tags:\n",
    "        if tag in tag_count:\n",
    "            tag_count[tag] += 1\n",
    "        else:\n",
    "            tag_count[tag] = 1"
   ]
  },
  {
   "cell_type": "code",
   "execution_count": 8,
   "metadata": {
    "collapsed": false
   },
   "outputs": [
    {
     "data": {
      "text/html": [
       "<div>\n",
       "<style scoped>\n",
       "    .dataframe tbody tr th:only-of-type {\n",
       "        vertical-align: middle;\n",
       "    }\n",
       "\n",
       "    .dataframe tbody tr th {\n",
       "        vertical-align: top;\n",
       "    }\n",
       "\n",
       "    .dataframe thead th {\n",
       "        text-align: right;\n",
       "    }\n",
       "</style>\n",
       "<table border=\"1\" class=\"dataframe\">\n",
       "  <thead>\n",
       "    <tr style=\"text-align: right;\">\n",
       "      <th></th>\n",
       "      <th>Count</th>\n",
       "    </tr>\n",
       "  </thead>\n",
       "  <tbody>\n",
       "    <tr>\n",
       "      <th>word-embeddings</th>\n",
       "      <td>117</td>\n",
       "    </tr>\n",
       "    <tr>\n",
       "      <th>arima</th>\n",
       "      <td>11</td>\n",
       "    </tr>\n",
       "    <tr>\n",
       "      <th>bias</th>\n",
       "      <td>19</td>\n",
       "    </tr>\n",
       "    <tr>\n",
       "      <th>hurdle-model</th>\n",
       "      <td>1</td>\n",
       "    </tr>\n",
       "    <tr>\n",
       "      <th>siamese</th>\n",
       "      <td>1</td>\n",
       "    </tr>\n",
       "  </tbody>\n",
       "</table>\n",
       "</div>"
      ],
      "text/plain": [
       "                 Count\n",
       "word-embeddings    117\n",
       "arima               11\n",
       "bias                19\n",
       "hurdle-model         1\n",
       "siamese              1"
      ]
     },
     "execution_count": 8,
     "metadata": {},
     "output_type": "execute_result"
    }
   ],
   "source": [
    "tag_count = pd.DataFrame.from_dict(tag_count, orient=\"index\")\n",
    "tag_count.rename(columns={0: \"Count\"}, inplace=True)\n",
    "tag_count.head(5)"
   ]
  },
  {
   "cell_type": "markdown",
   "metadata": {},
   "source": [
    "Sorting the tag count to identify the top tags that were used"
   ]
  },
  {
   "cell_type": "code",
   "execution_count": 9,
   "metadata": {
    "collapsed": false
   },
   "outputs": [
    {
     "data": {
      "text/html": [
       "<div>\n",
       "<style scoped>\n",
       "    .dataframe tbody tr th:only-of-type {\n",
       "        vertical-align: middle;\n",
       "    }\n",
       "\n",
       "    .dataframe tbody tr th {\n",
       "        vertical-align: top;\n",
       "    }\n",
       "\n",
       "    .dataframe thead th {\n",
       "        text-align: right;\n",
       "    }\n",
       "</style>\n",
       "<table border=\"1\" class=\"dataframe\">\n",
       "  <thead>\n",
       "    <tr style=\"text-align: right;\">\n",
       "      <th></th>\n",
       "      <th>Count</th>\n",
       "    </tr>\n",
       "  </thead>\n",
       "  <tbody>\n",
       "    <tr>\n",
       "      <th>machine-learning</th>\n",
       "      <td>2693</td>\n",
       "    </tr>\n",
       "    <tr>\n",
       "      <th>python</th>\n",
       "      <td>1814</td>\n",
       "    </tr>\n",
       "    <tr>\n",
       "      <th>deep-learning</th>\n",
       "      <td>1220</td>\n",
       "    </tr>\n",
       "    <tr>\n",
       "      <th>neural-network</th>\n",
       "      <td>1055</td>\n",
       "    </tr>\n",
       "    <tr>\n",
       "      <th>keras</th>\n",
       "      <td>935</td>\n",
       "    </tr>\n",
       "    <tr>\n",
       "      <th>classification</th>\n",
       "      <td>685</td>\n",
       "    </tr>\n",
       "    <tr>\n",
       "      <th>tensorflow</th>\n",
       "      <td>584</td>\n",
       "    </tr>\n",
       "    <tr>\n",
       "      <th>scikit-learn</th>\n",
       "      <td>540</td>\n",
       "    </tr>\n",
       "    <tr>\n",
       "      <th>nlp</th>\n",
       "      <td>493</td>\n",
       "    </tr>\n",
       "    <tr>\n",
       "      <th>cnn</th>\n",
       "      <td>489</td>\n",
       "    </tr>\n",
       "    <tr>\n",
       "      <th>time-series</th>\n",
       "      <td>466</td>\n",
       "    </tr>\n",
       "    <tr>\n",
       "      <th>lstm</th>\n",
       "      <td>402</td>\n",
       "    </tr>\n",
       "    <tr>\n",
       "      <th>pandas</th>\n",
       "      <td>354</td>\n",
       "    </tr>\n",
       "    <tr>\n",
       "      <th>regression</th>\n",
       "      <td>347</td>\n",
       "    </tr>\n",
       "    <tr>\n",
       "      <th>dataset</th>\n",
       "      <td>340</td>\n",
       "    </tr>\n",
       "    <tr>\n",
       "      <th>r</th>\n",
       "      <td>268</td>\n",
       "    </tr>\n",
       "    <tr>\n",
       "      <th>predictive-modeling</th>\n",
       "      <td>265</td>\n",
       "    </tr>\n",
       "    <tr>\n",
       "      <th>clustering</th>\n",
       "      <td>257</td>\n",
       "    </tr>\n",
       "    <tr>\n",
       "      <th>statistics</th>\n",
       "      <td>234</td>\n",
       "    </tr>\n",
       "    <tr>\n",
       "      <th>machine-learning-model</th>\n",
       "      <td>224</td>\n",
       "    </tr>\n",
       "  </tbody>\n",
       "</table>\n",
       "</div>"
      ],
      "text/plain": [
       "                        Count\n",
       "machine-learning         2693\n",
       "python                   1814\n",
       "deep-learning            1220\n",
       "neural-network           1055\n",
       "keras                     935\n",
       "classification            685\n",
       "tensorflow                584\n",
       "scikit-learn              540\n",
       "nlp                       493\n",
       "cnn                       489\n",
       "time-series               466\n",
       "lstm                      402\n",
       "pandas                    354\n",
       "regression                347\n",
       "dataset                   340\n",
       "r                         268\n",
       "predictive-modeling       265\n",
       "clustering                257\n",
       "statistics                234\n",
       "machine-learning-model    224"
      ]
     },
     "execution_count": 9,
     "metadata": {},
     "output_type": "execute_result"
    }
   ],
   "source": [
    "most_used = tag_count.sort_values(ascending=False, by=\"Count\").head(20)\n",
    "most_used"
   ]
  },
  {
   "cell_type": "markdown",
   "metadata": {},
   "source": [
    "A threshold of 20 for the top tags another threshold could have been used. A decresing trend is observed with the tag counts so there is no spikes in the tag count numbers which would have posed a problem. A plot of the tag counts is below "
   ]
  },
  {
   "cell_type": "code",
   "execution_count": 10,
   "metadata": {
    "collapsed": false
   },
   "outputs": [
    {
     "data": {
      "text/plain": [
       "<matplotlib.axes._subplots.AxesSubplot at 0x7f6877f1a8d0>"
      ]
     },
     "execution_count": 10,
     "metadata": {},
     "output_type": "execute_result"
    },
    {
     "data": {
      "image/png": "[encoded data removed]",
      "text/plain": [
       "<matplotlib.figure.Figure at 0x7f687fe798d0>"
      ]
     },
     "metadata": {},
     "output_type": "display_data"
    }
   ],
   "source": [
    "most_used.plot(kind='barh', figsize=(10,6))"
   ]
  },
  {
   "cell_type": "markdown",
   "metadata": {},
   "source": [
    "Some tags are ambiguous and may be left out of the analysis for example python, r and dataset. Next the number of times each tag was viewed with the plot of the values is below. "
   ]
  },
  {
   "cell_type": "code",
   "execution_count": 11,
   "metadata": {
    "collapsed": false
   },
   "outputs": [
    {
     "data": {
      "text/html": [
       "<div>\n",
       "<style scoped>\n",
       "    .dataframe tbody tr th:only-of-type {\n",
       "        vertical-align: middle;\n",
       "    }\n",
       "\n",
       "    .dataframe tbody tr th {\n",
       "        vertical-align: top;\n",
       "    }\n",
       "\n",
       "    .dataframe thead th {\n",
       "        text-align: right;\n",
       "    }\n",
       "</style>\n",
       "<table border=\"1\" class=\"dataframe\">\n",
       "  <thead>\n",
       "    <tr style=\"text-align: right;\">\n",
       "      <th></th>\n",
       "      <th>ViewCount</th>\n",
       "    </tr>\n",
       "  </thead>\n",
       "  <tbody>\n",
       "    <tr>\n",
       "      <th>word-embeddings</th>\n",
       "      <td>18616</td>\n",
       "    </tr>\n",
       "    <tr>\n",
       "      <th>arima</th>\n",
       "      <td>871</td>\n",
       "    </tr>\n",
       "    <tr>\n",
       "      <th>bias</th>\n",
       "      <td>2931</td>\n",
       "    </tr>\n",
       "    <tr>\n",
       "      <th>hurdle-model</th>\n",
       "      <td>1</td>\n",
       "    </tr>\n",
       "    <tr>\n",
       "      <th>siamese</th>\n",
       "      <td>1</td>\n",
       "    </tr>\n",
       "  </tbody>\n",
       "</table>\n",
       "</div>"
      ],
      "text/plain": [
       "                 ViewCount\n",
       "word-embeddings      18616\n",
       "arima                  871\n",
       "bias                  2931\n",
       "hurdle-model             1\n",
       "siamese                  1"
      ]
     },
     "execution_count": 11,
     "metadata": {},
     "output_type": "execute_result"
    }
   ],
   "source": [
    "tag_view_count = dict()\n",
    "\n",
    "for idx, tags in enumerate(questions['Tags']):\n",
    "    for tag in tags:\n",
    "        if tag in tag_view_count:\n",
    "            tag_view_count[tag] += questions['ViewCount'].iloc[idx]\n",
    "        else:\n",
    "            tag_view_count[tag] = 1\n",
    "            \n",
    "tag_view_count = pd.DataFrame.from_dict(tag_view_count, orient=\"index\")\n",
    "tag_view_count.rename(columns={0: \"ViewCount\"}, inplace=True)\n",
    "tag_view_count.head(5)            "
   ]
  },
  {
   "cell_type": "markdown",
   "metadata": {},
   "source": [
    "Sorting the tags according to the top views"
   ]
  },
  {
   "cell_type": "code",
   "execution_count": 12,
   "metadata": {
    "collapsed": false
   },
   "outputs": [
    {
     "data": {
      "text/html": [
       "<div>\n",
       "<style scoped>\n",
       "    .dataframe tbody tr th:only-of-type {\n",
       "        vertical-align: middle;\n",
       "    }\n",
       "\n",
       "    .dataframe tbody tr th {\n",
       "        vertical-align: top;\n",
       "    }\n",
       "\n",
       "    .dataframe thead th {\n",
       "        text-align: right;\n",
       "    }\n",
       "</style>\n",
       "<table border=\"1\" class=\"dataframe\">\n",
       "  <thead>\n",
       "    <tr style=\"text-align: right;\">\n",
       "      <th></th>\n",
       "      <th>ViewCount</th>\n",
       "    </tr>\n",
       "  </thead>\n",
       "  <tbody>\n",
       "    <tr>\n",
       "      <th>python</th>\n",
       "      <td>535935</td>\n",
       "    </tr>\n",
       "    <tr>\n",
       "      <th>machine-learning</th>\n",
       "      <td>388479</td>\n",
       "    </tr>\n",
       "    <tr>\n",
       "      <th>keras</th>\n",
       "      <td>268025</td>\n",
       "    </tr>\n",
       "    <tr>\n",
       "      <th>deep-learning</th>\n",
       "      <td>233045</td>\n",
       "    </tr>\n",
       "    <tr>\n",
       "      <th>pandas</th>\n",
       "      <td>200576</td>\n",
       "    </tr>\n",
       "    <tr>\n",
       "      <th>neural-network</th>\n",
       "      <td>185342</td>\n",
       "    </tr>\n",
       "    <tr>\n",
       "      <th>scikit-learn</th>\n",
       "      <td>128056</td>\n",
       "    </tr>\n",
       "    <tr>\n",
       "      <th>tensorflow</th>\n",
       "      <td>119560</td>\n",
       "    </tr>\n",
       "    <tr>\n",
       "      <th>classification</th>\n",
       "      <td>104397</td>\n",
       "    </tr>\n",
       "    <tr>\n",
       "      <th>dataframe</th>\n",
       "      <td>89281</td>\n",
       "    </tr>\n",
       "    <tr>\n",
       "      <th>lstm</th>\n",
       "      <td>74407</td>\n",
       "    </tr>\n",
       "    <tr>\n",
       "      <th>nlp</th>\n",
       "      <td>71278</td>\n",
       "    </tr>\n",
       "    <tr>\n",
       "      <th>cnn</th>\n",
       "      <td>69766</td>\n",
       "    </tr>\n",
       "    <tr>\n",
       "      <th>time-series</th>\n",
       "      <td>62484</td>\n",
       "    </tr>\n",
       "    <tr>\n",
       "      <th>regression</th>\n",
       "      <td>49427</td>\n",
       "    </tr>\n",
       "    <tr>\n",
       "      <th>numpy</th>\n",
       "      <td>48556</td>\n",
       "    </tr>\n",
       "    <tr>\n",
       "      <th>dataset</th>\n",
       "      <td>43133</td>\n",
       "    </tr>\n",
       "    <tr>\n",
       "      <th>pytorch</th>\n",
       "      <td>39887</td>\n",
       "    </tr>\n",
       "    <tr>\n",
       "      <th>csv</th>\n",
       "      <td>38453</td>\n",
       "    </tr>\n",
       "    <tr>\n",
       "      <th>clustering</th>\n",
       "      <td>33824</td>\n",
       "    </tr>\n",
       "  </tbody>\n",
       "</table>\n",
       "</div>"
      ],
      "text/plain": [
       "                  ViewCount\n",
       "python               535935\n",
       "machine-learning     388479\n",
       "keras                268025\n",
       "deep-learning        233045\n",
       "pandas               200576\n",
       "neural-network       185342\n",
       "scikit-learn         128056\n",
       "tensorflow           119560\n",
       "classification       104397\n",
       "dataframe             89281\n",
       "lstm                  74407\n",
       "nlp                   71278\n",
       "cnn                   69766\n",
       "time-series           62484\n",
       "regression            49427\n",
       "numpy                 48556\n",
       "dataset               43133\n",
       "pytorch               39887\n",
       "csv                   38453\n",
       "clustering            33824"
      ]
     },
     "execution_count": 12,
     "metadata": {},
     "output_type": "execute_result"
    }
   ],
   "source": [
    "most_viewed = tag_view_count.sort_values(ascending=False, by='ViewCount').head(20)\n",
    "most_viewed"
   ]
  },
  {
   "cell_type": "code",
   "execution_count": 13,
   "metadata": {
    "collapsed": false
   },
   "outputs": [
    {
     "data": {
      "text/plain": [
       "<matplotlib.axes._subplots.AxesSubplot at 0x7f687a382668>"
      ]
     },
     "execution_count": 13,
     "metadata": {},
     "output_type": "execute_result"
    },
    {
     "data": {
      "image/png": "[encoded data removed]",
      "text/plain": [
       "<matplotlib.figure.Figure at 0x7f687a469d68>"
      ]
     },
     "metadata": {},
     "output_type": "display_data"
    }
   ],
   "source": [
    "most_viewed.plot(kind='barh', figsize=(10,6))"
   ]
  },
  {
   "cell_type": "markdown",
   "metadata": {},
   "source": [
    "A view of both plots side by side for comparison"
   ]
  },
  {
   "cell_type": "code",
   "execution_count": 81,
   "metadata": {
    "collapsed": false
   },
   "outputs": [
    {
     "data": {
      "text/plain": [
       "array([<matplotlib.axes._subplots.AxesSubplot object at 0x7f686d07c748>],\n",
       "      dtype=object)"
      ]
     },
     "execution_count": 81,
     "metadata": {},
     "output_type": "execute_result"
    },
    {
     "data": {
      "image/png": "[encoded data removed]",
      "text/plain": [
       "<matplotlib.figure.Figure at 0x7f686d0e9748>"
      ]
     },
     "metadata": {},
     "output_type": "display_data"
    }
   ],
   "source": [
    "fig, axes = plt.subplots(nrows=1, ncols=2)\n",
    "fig.set_size_inches((10, 6))\n",
    "most_used.plot(kind=\"bar\", ax=axes[0], subplots=True, rot=90)\n",
    "most_viewed.plot(kind=\"bar\", ax=axes[1], subplots=True, rot=90)"
   ]
  },
  {
   "cell_type": "markdown",
   "metadata": {},
   "source": [
    "The most used tag was machine-learning while the most viewed tag was python. As much as python might not be useful because it is broad it might be a good idea to explore the relationship between the most used tag machine-learning and python to find the kind of questions users typically posted or viewed using both tags.\n",
    "\n",
    "Tags from the most used and the most viewed appear in both plots. The datafrmes below show what tags were used in the most used but are missing in the most viewed dataframe and vice versa.  "
   ]
  },
  {
   "cell_type": "code",
   "execution_count": 15,
   "metadata": {
    "collapsed": true
   },
   "outputs": [],
   "source": [
    "in_used = pd.merge(most_used, most_viewed, how=\"left\", left_index=True, right_index=True)\n",
    "in_viewed = pd.merge(most_used, most_viewed, how=\"right\", left_index=True, right_index=True)"
   ]
  },
  {
   "cell_type": "code",
   "execution_count": 16,
   "metadata": {
    "collapsed": false
   },
   "outputs": [
    {
     "data": {
      "text/html": [
       "<div>\n",
       "<style scoped>\n",
       "    .dataframe tbody tr th:only-of-type {\n",
       "        vertical-align: middle;\n",
       "    }\n",
       "\n",
       "    .dataframe tbody tr th {\n",
       "        vertical-align: top;\n",
       "    }\n",
       "\n",
       "    .dataframe thead th {\n",
       "        text-align: right;\n",
       "    }\n",
       "</style>\n",
       "<table border=\"1\" class=\"dataframe\">\n",
       "  <thead>\n",
       "    <tr style=\"text-align: right;\">\n",
       "      <th></th>\n",
       "      <th>Count</th>\n",
       "      <th>ViewCount</th>\n",
       "    </tr>\n",
       "  </thead>\n",
       "  <tbody>\n",
       "    <tr>\n",
       "      <th>machine-learning</th>\n",
       "      <td>2693</td>\n",
       "      <td>388479.0</td>\n",
       "    </tr>\n",
       "    <tr>\n",
       "      <th>python</th>\n",
       "      <td>1814</td>\n",
       "      <td>535935.0</td>\n",
       "    </tr>\n",
       "    <tr>\n",
       "      <th>deep-learning</th>\n",
       "      <td>1220</td>\n",
       "      <td>233045.0</td>\n",
       "    </tr>\n",
       "    <tr>\n",
       "      <th>neural-network</th>\n",
       "      <td>1055</td>\n",
       "      <td>185342.0</td>\n",
       "    </tr>\n",
       "    <tr>\n",
       "      <th>keras</th>\n",
       "      <td>935</td>\n",
       "      <td>268025.0</td>\n",
       "    </tr>\n",
       "    <tr>\n",
       "      <th>classification</th>\n",
       "      <td>685</td>\n",
       "      <td>104397.0</td>\n",
       "    </tr>\n",
       "    <tr>\n",
       "      <th>tensorflow</th>\n",
       "      <td>584</td>\n",
       "      <td>119560.0</td>\n",
       "    </tr>\n",
       "    <tr>\n",
       "      <th>scikit-learn</th>\n",
       "      <td>540</td>\n",
       "      <td>128056.0</td>\n",
       "    </tr>\n",
       "    <tr>\n",
       "      <th>nlp</th>\n",
       "      <td>493</td>\n",
       "      <td>71278.0</td>\n",
       "    </tr>\n",
       "    <tr>\n",
       "      <th>cnn</th>\n",
       "      <td>489</td>\n",
       "      <td>69766.0</td>\n",
       "    </tr>\n",
       "    <tr>\n",
       "      <th>time-series</th>\n",
       "      <td>466</td>\n",
       "      <td>62484.0</td>\n",
       "    </tr>\n",
       "    <tr>\n",
       "      <th>lstm</th>\n",
       "      <td>402</td>\n",
       "      <td>74407.0</td>\n",
       "    </tr>\n",
       "    <tr>\n",
       "      <th>pandas</th>\n",
       "      <td>354</td>\n",
       "      <td>200576.0</td>\n",
       "    </tr>\n",
       "    <tr>\n",
       "      <th>regression</th>\n",
       "      <td>347</td>\n",
       "      <td>49427.0</td>\n",
       "    </tr>\n",
       "    <tr>\n",
       "      <th>dataset</th>\n",
       "      <td>340</td>\n",
       "      <td>43133.0</td>\n",
       "    </tr>\n",
       "    <tr>\n",
       "      <th>r</th>\n",
       "      <td>268</td>\n",
       "      <td>NaN</td>\n",
       "    </tr>\n",
       "    <tr>\n",
       "      <th>predictive-modeling</th>\n",
       "      <td>265</td>\n",
       "      <td>NaN</td>\n",
       "    </tr>\n",
       "    <tr>\n",
       "      <th>clustering</th>\n",
       "      <td>257</td>\n",
       "      <td>33824.0</td>\n",
       "    </tr>\n",
       "    <tr>\n",
       "      <th>statistics</th>\n",
       "      <td>234</td>\n",
       "      <td>NaN</td>\n",
       "    </tr>\n",
       "    <tr>\n",
       "      <th>machine-learning-model</th>\n",
       "      <td>224</td>\n",
       "      <td>NaN</td>\n",
       "    </tr>\n",
       "  </tbody>\n",
       "</table>\n",
       "</div>"
      ],
      "text/plain": [
       "                        Count  ViewCount\n",
       "machine-learning         2693   388479.0\n",
       "python                   1814   535935.0\n",
       "deep-learning            1220   233045.0\n",
       "neural-network           1055   185342.0\n",
       "keras                     935   268025.0\n",
       "classification            685   104397.0\n",
       "tensorflow                584   119560.0\n",
       "scikit-learn              540   128056.0\n",
       "nlp                       493    71278.0\n",
       "cnn                       489    69766.0\n",
       "time-series               466    62484.0\n",
       "lstm                      402    74407.0\n",
       "pandas                    354   200576.0\n",
       "regression                347    49427.0\n",
       "dataset                   340    43133.0\n",
       "r                         268        NaN\n",
       "predictive-modeling       265        NaN\n",
       "clustering                257    33824.0\n",
       "statistics                234        NaN\n",
       "machine-learning-model    224        NaN"
      ]
     },
     "execution_count": 16,
     "metadata": {},
     "output_type": "execute_result"
    }
   ],
   "source": [
    "in_used"
   ]
  },
  {
   "cell_type": "code",
   "execution_count": 17,
   "metadata": {
    "collapsed": false
   },
   "outputs": [
    {
     "data": {
      "text/html": [
       "<div>\n",
       "<style scoped>\n",
       "    .dataframe tbody tr th:only-of-type {\n",
       "        vertical-align: middle;\n",
       "    }\n",
       "\n",
       "    .dataframe tbody tr th {\n",
       "        vertical-align: top;\n",
       "    }\n",
       "\n",
       "    .dataframe thead th {\n",
       "        text-align: right;\n",
       "    }\n",
       "</style>\n",
       "<table border=\"1\" class=\"dataframe\">\n",
       "  <thead>\n",
       "    <tr style=\"text-align: right;\">\n",
       "      <th></th>\n",
       "      <th>Count</th>\n",
       "      <th>ViewCount</th>\n",
       "    </tr>\n",
       "  </thead>\n",
       "  <tbody>\n",
       "    <tr>\n",
       "      <th>python</th>\n",
       "      <td>1814.0</td>\n",
       "      <td>535935</td>\n",
       "    </tr>\n",
       "    <tr>\n",
       "      <th>machine-learning</th>\n",
       "      <td>2693.0</td>\n",
       "      <td>388479</td>\n",
       "    </tr>\n",
       "    <tr>\n",
       "      <th>keras</th>\n",
       "      <td>935.0</td>\n",
       "      <td>268025</td>\n",
       "    </tr>\n",
       "    <tr>\n",
       "      <th>deep-learning</th>\n",
       "      <td>1220.0</td>\n",
       "      <td>233045</td>\n",
       "    </tr>\n",
       "    <tr>\n",
       "      <th>pandas</th>\n",
       "      <td>354.0</td>\n",
       "      <td>200576</td>\n",
       "    </tr>\n",
       "    <tr>\n",
       "      <th>neural-network</th>\n",
       "      <td>1055.0</td>\n",
       "      <td>185342</td>\n",
       "    </tr>\n",
       "    <tr>\n",
       "      <th>scikit-learn</th>\n",
       "      <td>540.0</td>\n",
       "      <td>128056</td>\n",
       "    </tr>\n",
       "    <tr>\n",
       "      <th>tensorflow</th>\n",
       "      <td>584.0</td>\n",
       "      <td>119560</td>\n",
       "    </tr>\n",
       "    <tr>\n",
       "      <th>classification</th>\n",
       "      <td>685.0</td>\n",
       "      <td>104397</td>\n",
       "    </tr>\n",
       "    <tr>\n",
       "      <th>dataframe</th>\n",
       "      <td>NaN</td>\n",
       "      <td>89281</td>\n",
       "    </tr>\n",
       "    <tr>\n",
       "      <th>lstm</th>\n",
       "      <td>402.0</td>\n",
       "      <td>74407</td>\n",
       "    </tr>\n",
       "    <tr>\n",
       "      <th>nlp</th>\n",
       "      <td>493.0</td>\n",
       "      <td>71278</td>\n",
       "    </tr>\n",
       "    <tr>\n",
       "      <th>cnn</th>\n",
       "      <td>489.0</td>\n",
       "      <td>69766</td>\n",
       "    </tr>\n",
       "    <tr>\n",
       "      <th>time-series</th>\n",
       "      <td>466.0</td>\n",
       "      <td>62484</td>\n",
       "    </tr>\n",
       "    <tr>\n",
       "      <th>regression</th>\n",
       "      <td>347.0</td>\n",
       "      <td>49427</td>\n",
       "    </tr>\n",
       "    <tr>\n",
       "      <th>numpy</th>\n",
       "      <td>NaN</td>\n",
       "      <td>48556</td>\n",
       "    </tr>\n",
       "    <tr>\n",
       "      <th>dataset</th>\n",
       "      <td>340.0</td>\n",
       "      <td>43133</td>\n",
       "    </tr>\n",
       "    <tr>\n",
       "      <th>pytorch</th>\n",
       "      <td>NaN</td>\n",
       "      <td>39887</td>\n",
       "    </tr>\n",
       "    <tr>\n",
       "      <th>csv</th>\n",
       "      <td>NaN</td>\n",
       "      <td>38453</td>\n",
       "    </tr>\n",
       "    <tr>\n",
       "      <th>clustering</th>\n",
       "      <td>257.0</td>\n",
       "      <td>33824</td>\n",
       "    </tr>\n",
       "  </tbody>\n",
       "</table>\n",
       "</div>"
      ],
      "text/plain": [
       "                   Count  ViewCount\n",
       "python            1814.0     535935\n",
       "machine-learning  2693.0     388479\n",
       "keras              935.0     268025\n",
       "deep-learning     1220.0     233045\n",
       "pandas             354.0     200576\n",
       "neural-network    1055.0     185342\n",
       "scikit-learn       540.0     128056\n",
       "tensorflow         584.0     119560\n",
       "classification     685.0     104397\n",
       "dataframe            NaN      89281\n",
       "lstm               402.0      74407\n",
       "nlp                493.0      71278\n",
       "cnn                489.0      69766\n",
       "time-series        466.0      62484\n",
       "regression         347.0      49427\n",
       "numpy                NaN      48556\n",
       "dataset            340.0      43133\n",
       "pytorch              NaN      39887\n",
       "csv                  NaN      38453\n",
       "clustering         257.0      33824"
      ]
     },
     "execution_count": 17,
     "metadata": {},
     "output_type": "execute_result"
    }
   ],
   "source": [
    "in_viewed"
   ]
  },
  {
   "cell_type": "markdown",
   "metadata": {
    "collapsed": true
   },
   "source": [
    "# Relation Between Tags"
   ]
  },
  {
   "cell_type": "markdown",
   "metadata": {
    "collapsed": true
   },
   "source": [
    "To find the relationship between the tags that are popular i.e for both the most viewed and the most viewed the number of times tags appear in a list for a given question can be counted. \n",
    "\n",
    "The top 10 popular tags will be paired and the number of times a given pair appears in a tag list will be stored in a dataframe. The top ten tags are \n",
    "python, machine-learning, deep-learning, neural-network, keras, tensorflow, classification, scikit-learn\n",
    "\n",
    "Below is the dataframe and number counts of paired tag counts"
   ]
  },
  {
   "cell_type": "code",
   "execution_count": 18,
   "metadata": {
    "collapsed": false
   },
   "outputs": [
    {
     "data": {
      "text/html": [
       "<div>\n",
       "<style scoped>\n",
       "    .dataframe tbody tr th:only-of-type {\n",
       "        vertical-align: middle;\n",
       "    }\n",
       "\n",
       "    .dataframe tbody tr th {\n",
       "        vertical-align: top;\n",
       "    }\n",
       "\n",
       "    .dataframe thead th {\n",
       "        text-align: right;\n",
       "    }\n",
       "</style>\n",
       "<table border=\"1\" class=\"dataframe\">\n",
       "  <thead>\n",
       "    <tr style=\"text-align: right;\">\n",
       "      <th></th>\n",
       "      <th>word-embeddings</th>\n",
       "      <th>arima</th>\n",
       "      <th>bias</th>\n",
       "      <th>hurdle-model</th>\n",
       "    </tr>\n",
       "  </thead>\n",
       "  <tbody>\n",
       "    <tr>\n",
       "      <th>word-embeddings</th>\n",
       "      <td>NaN</td>\n",
       "      <td>NaN</td>\n",
       "      <td>NaN</td>\n",
       "      <td>NaN</td>\n",
       "    </tr>\n",
       "    <tr>\n",
       "      <th>arima</th>\n",
       "      <td>NaN</td>\n",
       "      <td>NaN</td>\n",
       "      <td>NaN</td>\n",
       "      <td>NaN</td>\n",
       "    </tr>\n",
       "    <tr>\n",
       "      <th>bias</th>\n",
       "      <td>NaN</td>\n",
       "      <td>NaN</td>\n",
       "      <td>NaN</td>\n",
       "      <td>NaN</td>\n",
       "    </tr>\n",
       "    <tr>\n",
       "      <th>hurdle-model</th>\n",
       "      <td>NaN</td>\n",
       "      <td>NaN</td>\n",
       "      <td>NaN</td>\n",
       "      <td>NaN</td>\n",
       "    </tr>\n",
       "  </tbody>\n",
       "</table>\n",
       "</div>"
      ],
      "text/plain": [
       "                word-embeddings arima bias hurdle-model\n",
       "word-embeddings             NaN   NaN  NaN          NaN\n",
       "arima                       NaN   NaN  NaN          NaN\n",
       "bias                        NaN   NaN  NaN          NaN\n",
       "hurdle-model                NaN   NaN  NaN          NaN"
      ]
     },
     "execution_count": 18,
     "metadata": {},
     "output_type": "execute_result"
    }
   ],
   "source": [
    "# creating the dataframe\n",
    "\n",
    "top_tags = list(tag_count.index)\n",
    "paired_tags = pd.DataFrame(index = top_tags, columns = top_tags)\n",
    "paired_tags.iloc[0:4,0:4]"
   ]
  },
  {
   "cell_type": "markdown",
   "metadata": {},
   "source": [
    "Populating the dataframe with all zeros. Afterwards pared tags counts will be incremented starting from one until all paired tags used together in the questions dataset are counted. "
   ]
  },
  {
   "cell_type": "code",
   "execution_count": 19,
   "metadata": {
    "collapsed": false
   },
   "outputs": [
    {
     "data": {
      "text/html": [
       "<div>\n",
       "<style scoped>\n",
       "    .dataframe tbody tr th:only-of-type {\n",
       "        vertical-align: middle;\n",
       "    }\n",
       "\n",
       "    .dataframe tbody tr th {\n",
       "        vertical-align: top;\n",
       "    }\n",
       "\n",
       "    .dataframe thead th {\n",
       "        text-align: right;\n",
       "    }\n",
       "</style>\n",
       "<table border=\"1\" class=\"dataframe\">\n",
       "  <thead>\n",
       "    <tr style=\"text-align: right;\">\n",
       "      <th></th>\n",
       "      <th>word-embeddings</th>\n",
       "      <th>arima</th>\n",
       "      <th>bias</th>\n",
       "      <th>hurdle-model</th>\n",
       "    </tr>\n",
       "  </thead>\n",
       "  <tbody>\n",
       "    <tr>\n",
       "      <th>word-embeddings</th>\n",
       "      <td>117</td>\n",
       "      <td>0</td>\n",
       "      <td>1</td>\n",
       "      <td>0</td>\n",
       "    </tr>\n",
       "    <tr>\n",
       "      <th>arima</th>\n",
       "      <td>0</td>\n",
       "      <td>11</td>\n",
       "      <td>0</td>\n",
       "      <td>0</td>\n",
       "    </tr>\n",
       "    <tr>\n",
       "      <th>bias</th>\n",
       "      <td>1</td>\n",
       "      <td>0</td>\n",
       "      <td>19</td>\n",
       "      <td>0</td>\n",
       "    </tr>\n",
       "    <tr>\n",
       "      <th>hurdle-model</th>\n",
       "      <td>0</td>\n",
       "      <td>0</td>\n",
       "      <td>0</td>\n",
       "      <td>1</td>\n",
       "    </tr>\n",
       "  </tbody>\n",
       "</table>\n",
       "</div>"
      ],
      "text/plain": [
       "                 word-embeddings  arima  bias  hurdle-model\n",
       "word-embeddings              117      0     1             0\n",
       "arima                          0     11     0             0\n",
       "bias                           1      0    19             0\n",
       "hurdle-model                   0      0     0             1"
      ]
     },
     "execution_count": 19,
     "metadata": {},
     "output_type": "execute_result"
    }
   ],
   "source": [
    "paired_tags.fillna(0, inplace=True)\n",
    "# paired_tags\n",
    "for tag in questions['Tags']:\n",
    "    paired_tags.loc[tag, tag] += 1\n",
    "paired_tags.iloc[0:4,0:4]"
   ]
  },
  {
   "cell_type": "markdown",
   "metadata": {},
   "source": [
    "The dataframe is too huge. Since the analysis is focused on the most used tags that are not in the top 20 tags will be filtered out. "
   ]
  },
  {
   "cell_type": "code",
   "execution_count": 20,
   "metadata": {
    "collapsed": false
   },
   "outputs": [
    {
     "data": {
      "text/html": [
       "<style  type=\"text/css\" >\n",
       "    #T_0e658d66_6088_11ea_8b9c_0242ac11001crow0_col0 {\n",
       "            color:  blue;\n",
       "        }    #T_0e658d66_6088_11ea_8b9c_0242ac11001crow1_col1 {\n",
       "            color:  blue;\n",
       "        }    #T_0e658d66_6088_11ea_8b9c_0242ac11001crow2_col2 {\n",
       "            color:  blue;\n",
       "        }    #T_0e658d66_6088_11ea_8b9c_0242ac11001crow3_col3 {\n",
       "            color:  blue;\n",
       "        }    #T_0e658d66_6088_11ea_8b9c_0242ac11001crow4_col4 {\n",
       "            color:  blue;\n",
       "        }    #T_0e658d66_6088_11ea_8b9c_0242ac11001crow5_col5 {\n",
       "            color:  blue;\n",
       "        }    #T_0e658d66_6088_11ea_8b9c_0242ac11001crow6_col6 {\n",
       "            color:  blue;\n",
       "        }    #T_0e658d66_6088_11ea_8b9c_0242ac11001crow7_col7 {\n",
       "            color:  blue;\n",
       "        }    #T_0e658d66_6088_11ea_8b9c_0242ac11001crow8_col8 {\n",
       "            color:  blue;\n",
       "        }    #T_0e658d66_6088_11ea_8b9c_0242ac11001crow9_col9 {\n",
       "            color:  blue;\n",
       "        }    #T_0e658d66_6088_11ea_8b9c_0242ac11001crow10_col10 {\n",
       "            color:  blue;\n",
       "        }    #T_0e658d66_6088_11ea_8b9c_0242ac11001crow10_col15 {\n",
       "            background-color:  yellow;\n",
       "        }    #T_0e658d66_6088_11ea_8b9c_0242ac11001crow11_col11 {\n",
       "            color:  blue;\n",
       "        }    #T_0e658d66_6088_11ea_8b9c_0242ac11001crow12_col12 {\n",
       "            color:  blue;\n",
       "        }    #T_0e658d66_6088_11ea_8b9c_0242ac11001crow13_col13 {\n",
       "            color:  blue;\n",
       "        }    #T_0e658d66_6088_11ea_8b9c_0242ac11001crow14_col14 {\n",
       "            color:  blue;\n",
       "        }    #T_0e658d66_6088_11ea_8b9c_0242ac11001crow15_col10 {\n",
       "            background-color:  yellow;\n",
       "        }    #T_0e658d66_6088_11ea_8b9c_0242ac11001crow15_col15 {\n",
       "            color:  blue;\n",
       "        }    #T_0e658d66_6088_11ea_8b9c_0242ac11001crow16_col16 {\n",
       "            color:  blue;\n",
       "        }    #T_0e658d66_6088_11ea_8b9c_0242ac11001crow17_col17 {\n",
       "            color:  blue;\n",
       "        }    #T_0e658d66_6088_11ea_8b9c_0242ac11001crow18_col18 {\n",
       "            color:  blue;\n",
       "        }    #T_0e658d66_6088_11ea_8b9c_0242ac11001crow19_col19 {\n",
       "            color:  blue;\n",
       "        }</style>  \n",
       "<table id=\"T_0e658d66_6088_11ea_8b9c_0242ac11001c\" > \n",
       "<thead>    <tr> \n",
       "        <th class=\"blank level0\" ></th> \n",
       "        <th class=\"col_heading level0 col0\" >machine-learning</th> \n",
       "        <th class=\"col_heading level0 col1\" >python</th> \n",
       "        <th class=\"col_heading level0 col2\" >deep-learning</th> \n",
       "        <th class=\"col_heading level0 col3\" >neural-network</th> \n",
       "        <th class=\"col_heading level0 col4\" >keras</th> \n",
       "        <th class=\"col_heading level0 col5\" >classification</th> \n",
       "        <th class=\"col_heading level0 col6\" >tensorflow</th> \n",
       "        <th class=\"col_heading level0 col7\" >scikit-learn</th> \n",
       "        <th class=\"col_heading level0 col8\" >nlp</th> \n",
       "        <th class=\"col_heading level0 col9\" >cnn</th> \n",
       "        <th class=\"col_heading level0 col10\" >time-series</th> \n",
       "        <th class=\"col_heading level0 col11\" >lstm</th> \n",
       "        <th class=\"col_heading level0 col12\" >pandas</th> \n",
       "        <th class=\"col_heading level0 col13\" >regression</th> \n",
       "        <th class=\"col_heading level0 col14\" >dataset</th> \n",
       "        <th class=\"col_heading level0 col15\" >r</th> \n",
       "        <th class=\"col_heading level0 col16\" >predictive-modeling</th> \n",
       "        <th class=\"col_heading level0 col17\" >clustering</th> \n",
       "        <th class=\"col_heading level0 col18\" >statistics</th> \n",
       "        <th class=\"col_heading level0 col19\" >machine-learning-model</th> \n",
       "    </tr></thead> \n",
       "<tbody>    <tr> \n",
       "        <th id=\"T_0e658d66_6088_11ea_8b9c_0242ac11001clevel0_row0\" class=\"row_heading level0 row0\" >machine-learning</th> \n",
       "        <td id=\"T_0e658d66_6088_11ea_8b9c_0242ac11001crow0_col0\" class=\"data row0 col0\" >2693</td> \n",
       "        <td id=\"T_0e658d66_6088_11ea_8b9c_0242ac11001crow0_col1\" class=\"data row0 col1\" >499</td> \n",
       "        <td id=\"T_0e658d66_6088_11ea_8b9c_0242ac11001crow0_col2\" class=\"data row0 col2\" >429</td> \n",
       "        <td id=\"T_0e658d66_6088_11ea_8b9c_0242ac11001crow0_col3\" class=\"data row0 col3\" >366</td> \n",
       "        <td id=\"T_0e658d66_6088_11ea_8b9c_0242ac11001crow0_col4\" class=\"data row0 col4\" >195</td> \n",
       "        <td id=\"T_0e658d66_6088_11ea_8b9c_0242ac11001crow0_col5\" class=\"data row0 col5\" >259</td> \n",
       "        <td id=\"T_0e658d66_6088_11ea_8b9c_0242ac11001crow0_col6\" class=\"data row0 col6\" >106</td> \n",
       "        <td id=\"T_0e658d66_6088_11ea_8b9c_0242ac11001crow0_col7\" class=\"data row0 col7\" >188</td> \n",
       "        <td id=\"T_0e658d66_6088_11ea_8b9c_0242ac11001crow0_col8\" class=\"data row0 col8\" >113</td> \n",
       "        <td id=\"T_0e658d66_6088_11ea_8b9c_0242ac11001crow0_col9\" class=\"data row0 col9\" >124</td> \n",
       "        <td id=\"T_0e658d66_6088_11ea_8b9c_0242ac11001crow0_col10\" class=\"data row0 col10\" >131</td> \n",
       "        <td id=\"T_0e658d66_6088_11ea_8b9c_0242ac11001crow0_col11\" class=\"data row0 col11\" >71</td> \n",
       "        <td id=\"T_0e658d66_6088_11ea_8b9c_0242ac11001crow0_col12\" class=\"data row0 col12\" >62</td> \n",
       "        <td id=\"T_0e658d66_6088_11ea_8b9c_0242ac11001crow0_col13\" class=\"data row0 col13\" >119</td> \n",
       "        <td id=\"T_0e658d66_6088_11ea_8b9c_0242ac11001crow0_col14\" class=\"data row0 col14\" >99</td> \n",
       "        <td id=\"T_0e658d66_6088_11ea_8b9c_0242ac11001crow0_col15\" class=\"data row0 col15\" >63</td> \n",
       "        <td id=\"T_0e658d66_6088_11ea_8b9c_0242ac11001crow0_col16\" class=\"data row0 col16\" >123</td> \n",
       "        <td id=\"T_0e658d66_6088_11ea_8b9c_0242ac11001crow0_col17\" class=\"data row0 col17\" >61</td> \n",
       "        <td id=\"T_0e658d66_6088_11ea_8b9c_0242ac11001crow0_col18\" class=\"data row0 col18\" >89</td> \n",
       "        <td id=\"T_0e658d66_6088_11ea_8b9c_0242ac11001crow0_col19\" class=\"data row0 col19\" >139</td> \n",
       "    </tr>    <tr> \n",
       "        <th id=\"T_0e658d66_6088_11ea_8b9c_0242ac11001clevel0_row1\" class=\"row_heading level0 row1\" >python</th> \n",
       "        <td id=\"T_0e658d66_6088_11ea_8b9c_0242ac11001crow1_col0\" class=\"data row1 col0\" >499</td> \n",
       "        <td id=\"T_0e658d66_6088_11ea_8b9c_0242ac11001crow1_col1\" class=\"data row1 col1\" >1814</td> \n",
       "        <td id=\"T_0e658d66_6088_11ea_8b9c_0242ac11001crow1_col2\" class=\"data row1 col2\" >160</td> \n",
       "        <td id=\"T_0e658d66_6088_11ea_8b9c_0242ac11001crow1_col3\" class=\"data row1 col3\" >137</td> \n",
       "        <td id=\"T_0e658d66_6088_11ea_8b9c_0242ac11001crow1_col4\" class=\"data row1 col4\" >280</td> \n",
       "        <td id=\"T_0e658d66_6088_11ea_8b9c_0242ac11001crow1_col5\" class=\"data row1 col5\" >98</td> \n",
       "        <td id=\"T_0e658d66_6088_11ea_8b9c_0242ac11001crow1_col6\" class=\"data row1 col6\" >167</td> \n",
       "        <td id=\"T_0e658d66_6088_11ea_8b9c_0242ac11001crow1_col7\" class=\"data row1 col7\" >235</td> \n",
       "        <td id=\"T_0e658d66_6088_11ea_8b9c_0242ac11001crow1_col8\" class=\"data row1 col8\" >71</td> \n",
       "        <td id=\"T_0e658d66_6088_11ea_8b9c_0242ac11001crow1_col9\" class=\"data row1 col9\" >62</td> \n",
       "        <td id=\"T_0e658d66_6088_11ea_8b9c_0242ac11001crow1_col10\" class=\"data row1 col10\" >105</td> \n",
       "        <td id=\"T_0e658d66_6088_11ea_8b9c_0242ac11001crow1_col11\" class=\"data row1 col11\" >61</td> \n",
       "        <td id=\"T_0e658d66_6088_11ea_8b9c_0242ac11001crow1_col12\" class=\"data row1 col12\" >244</td> \n",
       "        <td id=\"T_0e658d66_6088_11ea_8b9c_0242ac11001crow1_col13\" class=\"data row1 col13\" >59</td> \n",
       "        <td id=\"T_0e658d66_6088_11ea_8b9c_0242ac11001crow1_col14\" class=\"data row1 col14\" >53</td> \n",
       "        <td id=\"T_0e658d66_6088_11ea_8b9c_0242ac11001crow1_col15\" class=\"data row1 col15\" >24</td> \n",
       "        <td id=\"T_0e658d66_6088_11ea_8b9c_0242ac11001crow1_col16\" class=\"data row1 col16\" >35</td> \n",
       "        <td id=\"T_0e658d66_6088_11ea_8b9c_0242ac11001crow1_col17\" class=\"data row1 col17\" >45</td> \n",
       "        <td id=\"T_0e658d66_6088_11ea_8b9c_0242ac11001crow1_col18\" class=\"data row1 col18\" >35</td> \n",
       "        <td id=\"T_0e658d66_6088_11ea_8b9c_0242ac11001crow1_col19\" class=\"data row1 col19\" >37</td> \n",
       "    </tr>    <tr> \n",
       "        <th id=\"T_0e658d66_6088_11ea_8b9c_0242ac11001clevel0_row2\" class=\"row_heading level0 row2\" >deep-learning</th> \n",
       "        <td id=\"T_0e658d66_6088_11ea_8b9c_0242ac11001crow2_col0\" class=\"data row2 col0\" >429</td> \n",
       "        <td id=\"T_0e658d66_6088_11ea_8b9c_0242ac11001crow2_col1\" class=\"data row2 col1\" >160</td> \n",
       "        <td id=\"T_0e658d66_6088_11ea_8b9c_0242ac11001crow2_col2\" class=\"data row2 col2\" >1220</td> \n",
       "        <td id=\"T_0e658d66_6088_11ea_8b9c_0242ac11001crow2_col3\" class=\"data row2 col3\" >305</td> \n",
       "        <td id=\"T_0e658d66_6088_11ea_8b9c_0242ac11001crow2_col4\" class=\"data row2 col4\" >247</td> \n",
       "        <td id=\"T_0e658d66_6088_11ea_8b9c_0242ac11001crow2_col5\" class=\"data row2 col5\" >59</td> \n",
       "        <td id=\"T_0e658d66_6088_11ea_8b9c_0242ac11001crow2_col6\" class=\"data row2 col6\" >136</td> \n",
       "        <td id=\"T_0e658d66_6088_11ea_8b9c_0242ac11001crow2_col7\" class=\"data row2 col7\" >16</td> \n",
       "        <td id=\"T_0e658d66_6088_11ea_8b9c_0242ac11001crow2_col8\" class=\"data row2 col8\" >72</td> \n",
       "        <td id=\"T_0e658d66_6088_11ea_8b9c_0242ac11001crow2_col9\" class=\"data row2 col9\" >160</td> \n",
       "        <td id=\"T_0e658d66_6088_11ea_8b9c_0242ac11001crow2_col10\" class=\"data row2 col10\" >44</td> \n",
       "        <td id=\"T_0e658d66_6088_11ea_8b9c_0242ac11001crow2_col11\" class=\"data row2 col11\" >103</td> \n",
       "        <td id=\"T_0e658d66_6088_11ea_8b9c_0242ac11001crow2_col12\" class=\"data row2 col12\" >1</td> \n",
       "        <td id=\"T_0e658d66_6088_11ea_8b9c_0242ac11001crow2_col13\" class=\"data row2 col13\" >21</td> \n",
       "        <td id=\"T_0e658d66_6088_11ea_8b9c_0242ac11001crow2_col14\" class=\"data row2 col14\" >32</td> \n",
       "        <td id=\"T_0e658d66_6088_11ea_8b9c_0242ac11001crow2_col15\" class=\"data row2 col15\" >5</td> \n",
       "        <td id=\"T_0e658d66_6088_11ea_8b9c_0242ac11001crow2_col16\" class=\"data row2 col16\" >32</td> \n",
       "        <td id=\"T_0e658d66_6088_11ea_8b9c_0242ac11001crow2_col17\" class=\"data row2 col17\" >2</td> \n",
       "        <td id=\"T_0e658d66_6088_11ea_8b9c_0242ac11001crow2_col18\" class=\"data row2 col18\" >12</td> \n",
       "        <td id=\"T_0e658d66_6088_11ea_8b9c_0242ac11001crow2_col19\" class=\"data row2 col19\" >19</td> \n",
       "    </tr>    <tr> \n",
       "        <th id=\"T_0e658d66_6088_11ea_8b9c_0242ac11001clevel0_row3\" class=\"row_heading level0 row3\" >neural-network</th> \n",
       "        <td id=\"T_0e658d66_6088_11ea_8b9c_0242ac11001crow3_col0\" class=\"data row3 col0\" >366</td> \n",
       "        <td id=\"T_0e658d66_6088_11ea_8b9c_0242ac11001crow3_col1\" class=\"data row3 col1\" >137</td> \n",
       "        <td id=\"T_0e658d66_6088_11ea_8b9c_0242ac11001crow3_col2\" class=\"data row3 col2\" >305</td> \n",
       "        <td id=\"T_0e658d66_6088_11ea_8b9c_0242ac11001crow3_col3\" class=\"data row3 col3\" >1055</td> \n",
       "        <td id=\"T_0e658d66_6088_11ea_8b9c_0242ac11001crow3_col4\" class=\"data row3 col4\" >235</td> \n",
       "        <td id=\"T_0e658d66_6088_11ea_8b9c_0242ac11001crow3_col5\" class=\"data row3 col5\" >65</td> \n",
       "        <td id=\"T_0e658d66_6088_11ea_8b9c_0242ac11001crow3_col6\" class=\"data row3 col6\" >108</td> \n",
       "        <td id=\"T_0e658d66_6088_11ea_8b9c_0242ac11001crow3_col7\" class=\"data row3 col7\" >24</td> \n",
       "        <td id=\"T_0e658d66_6088_11ea_8b9c_0242ac11001crow3_col8\" class=\"data row3 col8\" >24</td> \n",
       "        <td id=\"T_0e658d66_6088_11ea_8b9c_0242ac11001crow3_col9\" class=\"data row3 col9\" >118</td> \n",
       "        <td id=\"T_0e658d66_6088_11ea_8b9c_0242ac11001crow3_col10\" class=\"data row3 col10\" >33</td> \n",
       "        <td id=\"T_0e658d66_6088_11ea_8b9c_0242ac11001crow3_col11\" class=\"data row3 col11\" >69</td> \n",
       "        <td id=\"T_0e658d66_6088_11ea_8b9c_0242ac11001crow3_col12\" class=\"data row3 col12\" >1</td> \n",
       "        <td id=\"T_0e658d66_6088_11ea_8b9c_0242ac11001crow3_col13\" class=\"data row3 col13\" >42</td> \n",
       "        <td id=\"T_0e658d66_6088_11ea_8b9c_0242ac11001crow3_col14\" class=\"data row3 col14\" >20</td> \n",
       "        <td id=\"T_0e658d66_6088_11ea_8b9c_0242ac11001crow3_col15\" class=\"data row3 col15\" >9</td> \n",
       "        <td id=\"T_0e658d66_6088_11ea_8b9c_0242ac11001crow3_col16\" class=\"data row3 col16\" >13</td> \n",
       "        <td id=\"T_0e658d66_6088_11ea_8b9c_0242ac11001crow3_col17\" class=\"data row3 col17\" >8</td> \n",
       "        <td id=\"T_0e658d66_6088_11ea_8b9c_0242ac11001crow3_col18\" class=\"data row3 col18\" >11</td> \n",
       "        <td id=\"T_0e658d66_6088_11ea_8b9c_0242ac11001crow3_col19\" class=\"data row3 col19\" >10</td> \n",
       "    </tr>    <tr> \n",
       "        <th id=\"T_0e658d66_6088_11ea_8b9c_0242ac11001clevel0_row4\" class=\"row_heading level0 row4\" >keras</th> \n",
       "        <td id=\"T_0e658d66_6088_11ea_8b9c_0242ac11001crow4_col0\" class=\"data row4 col0\" >195</td> \n",
       "        <td id=\"T_0e658d66_6088_11ea_8b9c_0242ac11001crow4_col1\" class=\"data row4 col1\" >280</td> \n",
       "        <td id=\"T_0e658d66_6088_11ea_8b9c_0242ac11001crow4_col2\" class=\"data row4 col2\" >247</td> \n",
       "        <td id=\"T_0e658d66_6088_11ea_8b9c_0242ac11001crow4_col3\" class=\"data row4 col3\" >235</td> \n",
       "        <td id=\"T_0e658d66_6088_11ea_8b9c_0242ac11001crow4_col4\" class=\"data row4 col4\" >935</td> \n",
       "        <td id=\"T_0e658d66_6088_11ea_8b9c_0242ac11001crow4_col5\" class=\"data row4 col5\" >58</td> \n",
       "        <td id=\"T_0e658d66_6088_11ea_8b9c_0242ac11001crow4_col6\" class=\"data row4 col6\" >256</td> \n",
       "        <td id=\"T_0e658d66_6088_11ea_8b9c_0242ac11001crow4_col7\" class=\"data row4 col7\" >34</td> \n",
       "        <td id=\"T_0e658d66_6088_11ea_8b9c_0242ac11001crow4_col8\" class=\"data row4 col8\" >23</td> \n",
       "        <td id=\"T_0e658d66_6088_11ea_8b9c_0242ac11001crow4_col9\" class=\"data row4 col9\" >116</td> \n",
       "        <td id=\"T_0e658d66_6088_11ea_8b9c_0242ac11001crow4_col10\" class=\"data row4 col10\" >51</td> \n",
       "        <td id=\"T_0e658d66_6088_11ea_8b9c_0242ac11001crow4_col11\" class=\"data row4 col11\" >133</td> \n",
       "        <td id=\"T_0e658d66_6088_11ea_8b9c_0242ac11001crow4_col12\" class=\"data row4 col12\" >3</td> \n",
       "        <td id=\"T_0e658d66_6088_11ea_8b9c_0242ac11001crow4_col13\" class=\"data row4 col13\" >31</td> \n",
       "        <td id=\"T_0e658d66_6088_11ea_8b9c_0242ac11001crow4_col14\" class=\"data row4 col14\" >13</td> \n",
       "        <td id=\"T_0e658d66_6088_11ea_8b9c_0242ac11001crow4_col15\" class=\"data row4 col15\" >10</td> \n",
       "        <td id=\"T_0e658d66_6088_11ea_8b9c_0242ac11001crow4_col16\" class=\"data row4 col16\" >11</td> \n",
       "        <td id=\"T_0e658d66_6088_11ea_8b9c_0242ac11001crow4_col17\" class=\"data row4 col17\" >0</td> \n",
       "        <td id=\"T_0e658d66_6088_11ea_8b9c_0242ac11001crow4_col18\" class=\"data row4 col18\" >3</td> \n",
       "        <td id=\"T_0e658d66_6088_11ea_8b9c_0242ac11001crow4_col19\" class=\"data row4 col19\" >17</td> \n",
       "    </tr>    <tr> \n",
       "        <th id=\"T_0e658d66_6088_11ea_8b9c_0242ac11001clevel0_row5\" class=\"row_heading level0 row5\" >classification</th> \n",
       "        <td id=\"T_0e658d66_6088_11ea_8b9c_0242ac11001crow5_col0\" class=\"data row5 col0\" >259</td> \n",
       "        <td id=\"T_0e658d66_6088_11ea_8b9c_0242ac11001crow5_col1\" class=\"data row5 col1\" >98</td> \n",
       "        <td id=\"T_0e658d66_6088_11ea_8b9c_0242ac11001crow5_col2\" class=\"data row5 col2\" >59</td> \n",
       "        <td id=\"T_0e658d66_6088_11ea_8b9c_0242ac11001crow5_col3\" class=\"data row5 col3\" >65</td> \n",
       "        <td id=\"T_0e658d66_6088_11ea_8b9c_0242ac11001crow5_col4\" class=\"data row5 col4\" >58</td> \n",
       "        <td id=\"T_0e658d66_6088_11ea_8b9c_0242ac11001crow5_col5\" class=\"data row5 col5\" >685</td> \n",
       "        <td id=\"T_0e658d66_6088_11ea_8b9c_0242ac11001crow5_col6\" class=\"data row5 col6\" >20</td> \n",
       "        <td id=\"T_0e658d66_6088_11ea_8b9c_0242ac11001crow5_col7\" class=\"data row5 col7\" >47</td> \n",
       "        <td id=\"T_0e658d66_6088_11ea_8b9c_0242ac11001crow5_col8\" class=\"data row5 col8\" >35</td> \n",
       "        <td id=\"T_0e658d66_6088_11ea_8b9c_0242ac11001crow5_col9\" class=\"data row5 col9\" >20</td> \n",
       "        <td id=\"T_0e658d66_6088_11ea_8b9c_0242ac11001crow5_col10\" class=\"data row5 col10\" >25</td> \n",
       "        <td id=\"T_0e658d66_6088_11ea_8b9c_0242ac11001crow5_col11\" class=\"data row5 col11\" >20</td> \n",
       "        <td id=\"T_0e658d66_6088_11ea_8b9c_0242ac11001crow5_col12\" class=\"data row5 col12\" >3</td> \n",
       "        <td id=\"T_0e658d66_6088_11ea_8b9c_0242ac11001crow5_col13\" class=\"data row5 col13\" >34</td> \n",
       "        <td id=\"T_0e658d66_6088_11ea_8b9c_0242ac11001crow5_col14\" class=\"data row5 col14\" >28</td> \n",
       "        <td id=\"T_0e658d66_6088_11ea_8b9c_0242ac11001crow5_col15\" class=\"data row5 col15\" >10</td> \n",
       "        <td id=\"T_0e658d66_6088_11ea_8b9c_0242ac11001crow5_col16\" class=\"data row5 col16\" >27</td> \n",
       "        <td id=\"T_0e658d66_6088_11ea_8b9c_0242ac11001crow5_col17\" class=\"data row5 col17\" >12</td> \n",
       "        <td id=\"T_0e658d66_6088_11ea_8b9c_0242ac11001crow5_col18\" class=\"data row5 col18\" >19</td> \n",
       "        <td id=\"T_0e658d66_6088_11ea_8b9c_0242ac11001crow5_col19\" class=\"data row5 col19\" >21</td> \n",
       "    </tr>    <tr> \n",
       "        <th id=\"T_0e658d66_6088_11ea_8b9c_0242ac11001clevel0_row6\" class=\"row_heading level0 row6\" >tensorflow</th> \n",
       "        <td id=\"T_0e658d66_6088_11ea_8b9c_0242ac11001crow6_col0\" class=\"data row6 col0\" >106</td> \n",
       "        <td id=\"T_0e658d66_6088_11ea_8b9c_0242ac11001crow6_col1\" class=\"data row6 col1\" >167</td> \n",
       "        <td id=\"T_0e658d66_6088_11ea_8b9c_0242ac11001crow6_col2\" class=\"data row6 col2\" >136</td> \n",
       "        <td id=\"T_0e658d66_6088_11ea_8b9c_0242ac11001crow6_col3\" class=\"data row6 col3\" >108</td> \n",
       "        <td id=\"T_0e658d66_6088_11ea_8b9c_0242ac11001crow6_col4\" class=\"data row6 col4\" >256</td> \n",
       "        <td id=\"T_0e658d66_6088_11ea_8b9c_0242ac11001crow6_col5\" class=\"data row6 col5\" >20</td> \n",
       "        <td id=\"T_0e658d66_6088_11ea_8b9c_0242ac11001crow6_col6\" class=\"data row6 col6\" >584</td> \n",
       "        <td id=\"T_0e658d66_6088_11ea_8b9c_0242ac11001crow6_col7\" class=\"data row6 col7\" >15</td> \n",
       "        <td id=\"T_0e658d66_6088_11ea_8b9c_0242ac11001crow6_col8\" class=\"data row6 col8\" >11</td> \n",
       "        <td id=\"T_0e658d66_6088_11ea_8b9c_0242ac11001crow6_col9\" class=\"data row6 col9\" >57</td> \n",
       "        <td id=\"T_0e658d66_6088_11ea_8b9c_0242ac11001crow6_col10\" class=\"data row6 col10\" >9</td> \n",
       "        <td id=\"T_0e658d66_6088_11ea_8b9c_0242ac11001crow6_col11\" class=\"data row6 col11\" >43</td> \n",
       "        <td id=\"T_0e658d66_6088_11ea_8b9c_0242ac11001crow6_col12\" class=\"data row6 col12\" >3</td> \n",
       "        <td id=\"T_0e658d66_6088_11ea_8b9c_0242ac11001crow6_col13\" class=\"data row6 col13\" >9</td> \n",
       "        <td id=\"T_0e658d66_6088_11ea_8b9c_0242ac11001crow6_col14\" class=\"data row6 col14\" >9</td> \n",
       "        <td id=\"T_0e658d66_6088_11ea_8b9c_0242ac11001crow6_col15\" class=\"data row6 col15\" >1</td> \n",
       "        <td id=\"T_0e658d66_6088_11ea_8b9c_0242ac11001crow6_col16\" class=\"data row6 col16\" >6</td> \n",
       "        <td id=\"T_0e658d66_6088_11ea_8b9c_0242ac11001crow6_col17\" class=\"data row6 col17\" >0</td> \n",
       "        <td id=\"T_0e658d66_6088_11ea_8b9c_0242ac11001crow6_col18\" class=\"data row6 col18\" >0</td> \n",
       "        <td id=\"T_0e658d66_6088_11ea_8b9c_0242ac11001crow6_col19\" class=\"data row6 col19\" >9</td> \n",
       "    </tr>    <tr> \n",
       "        <th id=\"T_0e658d66_6088_11ea_8b9c_0242ac11001clevel0_row7\" class=\"row_heading level0 row7\" >scikit-learn</th> \n",
       "        <td id=\"T_0e658d66_6088_11ea_8b9c_0242ac11001crow7_col0\" class=\"data row7 col0\" >188</td> \n",
       "        <td id=\"T_0e658d66_6088_11ea_8b9c_0242ac11001crow7_col1\" class=\"data row7 col1\" >235</td> \n",
       "        <td id=\"T_0e658d66_6088_11ea_8b9c_0242ac11001crow7_col2\" class=\"data row7 col2\" >16</td> \n",
       "        <td id=\"T_0e658d66_6088_11ea_8b9c_0242ac11001crow7_col3\" class=\"data row7 col3\" >24</td> \n",
       "        <td id=\"T_0e658d66_6088_11ea_8b9c_0242ac11001crow7_col4\" class=\"data row7 col4\" >34</td> \n",
       "        <td id=\"T_0e658d66_6088_11ea_8b9c_0242ac11001crow7_col5\" class=\"data row7 col5\" >47</td> \n",
       "        <td id=\"T_0e658d66_6088_11ea_8b9c_0242ac11001crow7_col6\" class=\"data row7 col6\" >15</td> \n",
       "        <td id=\"T_0e658d66_6088_11ea_8b9c_0242ac11001crow7_col7\" class=\"data row7 col7\" >540</td> \n",
       "        <td id=\"T_0e658d66_6088_11ea_8b9c_0242ac11001crow7_col8\" class=\"data row7 col8\" >12</td> \n",
       "        <td id=\"T_0e658d66_6088_11ea_8b9c_0242ac11001crow7_col9\" class=\"data row7 col9\" >0</td> \n",
       "        <td id=\"T_0e658d66_6088_11ea_8b9c_0242ac11001crow7_col10\" class=\"data row7 col10\" >12</td> \n",
       "        <td id=\"T_0e658d66_6088_11ea_8b9c_0242ac11001crow7_col11\" class=\"data row7 col11\" >2</td> \n",
       "        <td id=\"T_0e658d66_6088_11ea_8b9c_0242ac11001crow7_col12\" class=\"data row7 col12\" >37</td> \n",
       "        <td id=\"T_0e658d66_6088_11ea_8b9c_0242ac11001crow7_col13\" class=\"data row7 col13\" >37</td> \n",
       "        <td id=\"T_0e658d66_6088_11ea_8b9c_0242ac11001crow7_col14\" class=\"data row7 col14\" >9</td> \n",
       "        <td id=\"T_0e658d66_6088_11ea_8b9c_0242ac11001crow7_col15\" class=\"data row7 col15\" >1</td> \n",
       "        <td id=\"T_0e658d66_6088_11ea_8b9c_0242ac11001crow7_col16\" class=\"data row7 col16\" >12</td> \n",
       "        <td id=\"T_0e658d66_6088_11ea_8b9c_0242ac11001crow7_col17\" class=\"data row7 col17\" >24</td> \n",
       "        <td id=\"T_0e658d66_6088_11ea_8b9c_0242ac11001crow7_col18\" class=\"data row7 col18\" >6</td> \n",
       "        <td id=\"T_0e658d66_6088_11ea_8b9c_0242ac11001crow7_col19\" class=\"data row7 col19\" >18</td> \n",
       "    </tr>    <tr> \n",
       "        <th id=\"T_0e658d66_6088_11ea_8b9c_0242ac11001clevel0_row8\" class=\"row_heading level0 row8\" >nlp</th> \n",
       "        <td id=\"T_0e658d66_6088_11ea_8b9c_0242ac11001crow8_col0\" class=\"data row8 col0\" >113</td> \n",
       "        <td id=\"T_0e658d66_6088_11ea_8b9c_0242ac11001crow8_col1\" class=\"data row8 col1\" >71</td> \n",
       "        <td id=\"T_0e658d66_6088_11ea_8b9c_0242ac11001crow8_col2\" class=\"data row8 col2\" >72</td> \n",
       "        <td id=\"T_0e658d66_6088_11ea_8b9c_0242ac11001crow8_col3\" class=\"data row8 col3\" >24</td> \n",
       "        <td id=\"T_0e658d66_6088_11ea_8b9c_0242ac11001crow8_col4\" class=\"data row8 col4\" >23</td> \n",
       "        <td id=\"T_0e658d66_6088_11ea_8b9c_0242ac11001crow8_col5\" class=\"data row8 col5\" >35</td> \n",
       "        <td id=\"T_0e658d66_6088_11ea_8b9c_0242ac11001crow8_col6\" class=\"data row8 col6\" >11</td> \n",
       "        <td id=\"T_0e658d66_6088_11ea_8b9c_0242ac11001crow8_col7\" class=\"data row8 col7\" >12</td> \n",
       "        <td id=\"T_0e658d66_6088_11ea_8b9c_0242ac11001crow8_col8\" class=\"data row8 col8\" >493</td> \n",
       "        <td id=\"T_0e658d66_6088_11ea_8b9c_0242ac11001crow8_col9\" class=\"data row8 col9\" >7</td> \n",
       "        <td id=\"T_0e658d66_6088_11ea_8b9c_0242ac11001crow8_col10\" class=\"data row8 col10\" >0</td> \n",
       "        <td id=\"T_0e658d66_6088_11ea_8b9c_0242ac11001crow8_col11\" class=\"data row8 col11\" >19</td> \n",
       "        <td id=\"T_0e658d66_6088_11ea_8b9c_0242ac11001crow8_col12\" class=\"data row8 col12\" >3</td> \n",
       "        <td id=\"T_0e658d66_6088_11ea_8b9c_0242ac11001crow8_col13\" class=\"data row8 col13\" >2</td> \n",
       "        <td id=\"T_0e658d66_6088_11ea_8b9c_0242ac11001crow8_col14\" class=\"data row8 col14\" >11</td> \n",
       "        <td id=\"T_0e658d66_6088_11ea_8b9c_0242ac11001crow8_col15\" class=\"data row8 col15\" >4</td> \n",
       "        <td id=\"T_0e658d66_6088_11ea_8b9c_0242ac11001crow8_col16\" class=\"data row8 col16\" >1</td> \n",
       "        <td id=\"T_0e658d66_6088_11ea_8b9c_0242ac11001crow8_col17\" class=\"data row8 col17\" >9</td> \n",
       "        <td id=\"T_0e658d66_6088_11ea_8b9c_0242ac11001crow8_col18\" class=\"data row8 col18\" >3</td> \n",
       "        <td id=\"T_0e658d66_6088_11ea_8b9c_0242ac11001crow8_col19\" class=\"data row8 col19\" >4</td> \n",
       "    </tr>    <tr> \n",
       "        <th id=\"T_0e658d66_6088_11ea_8b9c_0242ac11001clevel0_row9\" class=\"row_heading level0 row9\" >cnn</th> \n",
       "        <td id=\"T_0e658d66_6088_11ea_8b9c_0242ac11001crow9_col0\" class=\"data row9 col0\" >124</td> \n",
       "        <td id=\"T_0e658d66_6088_11ea_8b9c_0242ac11001crow9_col1\" class=\"data row9 col1\" >62</td> \n",
       "        <td id=\"T_0e658d66_6088_11ea_8b9c_0242ac11001crow9_col2\" class=\"data row9 col2\" >160</td> \n",
       "        <td id=\"T_0e658d66_6088_11ea_8b9c_0242ac11001crow9_col3\" class=\"data row9 col3\" >118</td> \n",
       "        <td id=\"T_0e658d66_6088_11ea_8b9c_0242ac11001crow9_col4\" class=\"data row9 col4\" >116</td> \n",
       "        <td id=\"T_0e658d66_6088_11ea_8b9c_0242ac11001crow9_col5\" class=\"data row9 col5\" >20</td> \n",
       "        <td id=\"T_0e658d66_6088_11ea_8b9c_0242ac11001crow9_col6\" class=\"data row9 col6\" >57</td> \n",
       "        <td id=\"T_0e658d66_6088_11ea_8b9c_0242ac11001crow9_col7\" class=\"data row9 col7\" >0</td> \n",
       "        <td id=\"T_0e658d66_6088_11ea_8b9c_0242ac11001crow9_col8\" class=\"data row9 col8\" >7</td> \n",
       "        <td id=\"T_0e658d66_6088_11ea_8b9c_0242ac11001crow9_col9\" class=\"data row9 col9\" >489</td> \n",
       "        <td id=\"T_0e658d66_6088_11ea_8b9c_0242ac11001crow9_col10\" class=\"data row9 col10\" >8</td> \n",
       "        <td id=\"T_0e658d66_6088_11ea_8b9c_0242ac11001crow9_col11\" class=\"data row9 col11\" >24</td> \n",
       "        <td id=\"T_0e658d66_6088_11ea_8b9c_0242ac11001crow9_col12\" class=\"data row9 col12\" >1</td> \n",
       "        <td id=\"T_0e658d66_6088_11ea_8b9c_0242ac11001crow9_col13\" class=\"data row9 col13\" >6</td> \n",
       "        <td id=\"T_0e658d66_6088_11ea_8b9c_0242ac11001crow9_col14\" class=\"data row9 col14\" >11</td> \n",
       "        <td id=\"T_0e658d66_6088_11ea_8b9c_0242ac11001crow9_col15\" class=\"data row9 col15\" >2</td> \n",
       "        <td id=\"T_0e658d66_6088_11ea_8b9c_0242ac11001crow9_col16\" class=\"data row9 col16\" >6</td> \n",
       "        <td id=\"T_0e658d66_6088_11ea_8b9c_0242ac11001crow9_col17\" class=\"data row9 col17\" >0</td> \n",
       "        <td id=\"T_0e658d66_6088_11ea_8b9c_0242ac11001crow9_col18\" class=\"data row9 col18\" >1</td> \n",
       "        <td id=\"T_0e658d66_6088_11ea_8b9c_0242ac11001crow9_col19\" class=\"data row9 col19\" >4</td> \n",
       "    </tr>    <tr> \n",
       "        <th id=\"T_0e658d66_6088_11ea_8b9c_0242ac11001clevel0_row10\" class=\"row_heading level0 row10\" >time-series</th> \n",
       "        <td id=\"T_0e658d66_6088_11ea_8b9c_0242ac11001crow10_col0\" class=\"data row10 col0\" >131</td> \n",
       "        <td id=\"T_0e658d66_6088_11ea_8b9c_0242ac11001crow10_col1\" class=\"data row10 col1\" >105</td> \n",
       "        <td id=\"T_0e658d66_6088_11ea_8b9c_0242ac11001crow10_col2\" class=\"data row10 col2\" >44</td> \n",
       "        <td id=\"T_0e658d66_6088_11ea_8b9c_0242ac11001crow10_col3\" class=\"data row10 col3\" >33</td> \n",
       "        <td id=\"T_0e658d66_6088_11ea_8b9c_0242ac11001crow10_col4\" class=\"data row10 col4\" >51</td> \n",
       "        <td id=\"T_0e658d66_6088_11ea_8b9c_0242ac11001crow10_col5\" class=\"data row10 col5\" >25</td> \n",
       "        <td id=\"T_0e658d66_6088_11ea_8b9c_0242ac11001crow10_col6\" class=\"data row10 col6\" >9</td> \n",
       "        <td id=\"T_0e658d66_6088_11ea_8b9c_0242ac11001crow10_col7\" class=\"data row10 col7\" >12</td> \n",
       "        <td id=\"T_0e658d66_6088_11ea_8b9c_0242ac11001crow10_col8\" class=\"data row10 col8\" >0</td> \n",
       "        <td id=\"T_0e658d66_6088_11ea_8b9c_0242ac11001crow10_col9\" class=\"data row10 col9\" >8</td> \n",
       "        <td id=\"T_0e658d66_6088_11ea_8b9c_0242ac11001crow10_col10\" class=\"data row10 col10\" >466</td> \n",
       "        <td id=\"T_0e658d66_6088_11ea_8b9c_0242ac11001crow10_col11\" class=\"data row10 col11\" >87</td> \n",
       "        <td id=\"T_0e658d66_6088_11ea_8b9c_0242ac11001crow10_col12\" class=\"data row10 col12\" >19</td> \n",
       "        <td id=\"T_0e658d66_6088_11ea_8b9c_0242ac11001crow10_col13\" class=\"data row10 col13\" >24</td> \n",
       "        <td id=\"T_0e658d66_6088_11ea_8b9c_0242ac11001crow10_col14\" class=\"data row10 col14\" >6</td> \n",
       "        <td id=\"T_0e658d66_6088_11ea_8b9c_0242ac11001crow10_col15\" class=\"data row10 col15\" >22</td> \n",
       "        <td id=\"T_0e658d66_6088_11ea_8b9c_0242ac11001crow10_col16\" class=\"data row10 col16\" >31</td> \n",
       "        <td id=\"T_0e658d66_6088_11ea_8b9c_0242ac11001crow10_col17\" class=\"data row10 col17\" >20</td> \n",
       "        <td id=\"T_0e658d66_6088_11ea_8b9c_0242ac11001crow10_col18\" class=\"data row10 col18\" >22</td> \n",
       "        <td id=\"T_0e658d66_6088_11ea_8b9c_0242ac11001crow10_col19\" class=\"data row10 col19\" >7</td> \n",
       "    </tr>    <tr> \n",
       "        <th id=\"T_0e658d66_6088_11ea_8b9c_0242ac11001clevel0_row11\" class=\"row_heading level0 row11\" >lstm</th> \n",
       "        <td id=\"T_0e658d66_6088_11ea_8b9c_0242ac11001crow11_col0\" class=\"data row11 col0\" >71</td> \n",
       "        <td id=\"T_0e658d66_6088_11ea_8b9c_0242ac11001crow11_col1\" class=\"data row11 col1\" >61</td> \n",
       "        <td id=\"T_0e658d66_6088_11ea_8b9c_0242ac11001crow11_col2\" class=\"data row11 col2\" >103</td> \n",
       "        <td id=\"T_0e658d66_6088_11ea_8b9c_0242ac11001crow11_col3\" class=\"data row11 col3\" >69</td> \n",
       "        <td id=\"T_0e658d66_6088_11ea_8b9c_0242ac11001crow11_col4\" class=\"data row11 col4\" >133</td> \n",
       "        <td id=\"T_0e658d66_6088_11ea_8b9c_0242ac11001crow11_col5\" class=\"data row11 col5\" >20</td> \n",
       "        <td id=\"T_0e658d66_6088_11ea_8b9c_0242ac11001crow11_col6\" class=\"data row11 col6\" >43</td> \n",
       "        <td id=\"T_0e658d66_6088_11ea_8b9c_0242ac11001crow11_col7\" class=\"data row11 col7\" >2</td> \n",
       "        <td id=\"T_0e658d66_6088_11ea_8b9c_0242ac11001crow11_col8\" class=\"data row11 col8\" >19</td> \n",
       "        <td id=\"T_0e658d66_6088_11ea_8b9c_0242ac11001crow11_col9\" class=\"data row11 col9\" >24</td> \n",
       "        <td id=\"T_0e658d66_6088_11ea_8b9c_0242ac11001crow11_col10\" class=\"data row11 col10\" >87</td> \n",
       "        <td id=\"T_0e658d66_6088_11ea_8b9c_0242ac11001crow11_col11\" class=\"data row11 col11\" >402</td> \n",
       "        <td id=\"T_0e658d66_6088_11ea_8b9c_0242ac11001crow11_col12\" class=\"data row11 col12\" >7</td> \n",
       "        <td id=\"T_0e658d66_6088_11ea_8b9c_0242ac11001crow11_col13\" class=\"data row11 col13\" >11</td> \n",
       "        <td id=\"T_0e658d66_6088_11ea_8b9c_0242ac11001crow11_col14\" class=\"data row11 col14\" >7</td> \n",
       "        <td id=\"T_0e658d66_6088_11ea_8b9c_0242ac11001crow11_col15\" class=\"data row11 col15\" >3</td> \n",
       "        <td id=\"T_0e658d66_6088_11ea_8b9c_0242ac11001crow11_col16\" class=\"data row11 col16\" >13</td> \n",
       "        <td id=\"T_0e658d66_6088_11ea_8b9c_0242ac11001crow11_col17\" class=\"data row11 col17\" >3</td> \n",
       "        <td id=\"T_0e658d66_6088_11ea_8b9c_0242ac11001crow11_col18\" class=\"data row11 col18\" >1</td> \n",
       "        <td id=\"T_0e658d66_6088_11ea_8b9c_0242ac11001crow11_col19\" class=\"data row11 col19\" >5</td> \n",
       "    </tr>    <tr> \n",
       "        <th id=\"T_0e658d66_6088_11ea_8b9c_0242ac11001clevel0_row12\" class=\"row_heading level0 row12\" >pandas</th> \n",
       "        <td id=\"T_0e658d66_6088_11ea_8b9c_0242ac11001crow12_col0\" class=\"data row12 col0\" >62</td> \n",
       "        <td id=\"T_0e658d66_6088_11ea_8b9c_0242ac11001crow12_col1\" class=\"data row12 col1\" >244</td> \n",
       "        <td id=\"T_0e658d66_6088_11ea_8b9c_0242ac11001crow12_col2\" class=\"data row12 col2\" >1</td> \n",
       "        <td id=\"T_0e658d66_6088_11ea_8b9c_0242ac11001crow12_col3\" class=\"data row12 col3\" >1</td> \n",
       "        <td id=\"T_0e658d66_6088_11ea_8b9c_0242ac11001crow12_col4\" class=\"data row12 col4\" >3</td> \n",
       "        <td id=\"T_0e658d66_6088_11ea_8b9c_0242ac11001crow12_col5\" class=\"data row12 col5\" >3</td> \n",
       "        <td id=\"T_0e658d66_6088_11ea_8b9c_0242ac11001crow12_col6\" class=\"data row12 col6\" >3</td> \n",
       "        <td id=\"T_0e658d66_6088_11ea_8b9c_0242ac11001crow12_col7\" class=\"data row12 col7\" >37</td> \n",
       "        <td id=\"T_0e658d66_6088_11ea_8b9c_0242ac11001crow12_col8\" class=\"data row12 col8\" >3</td> \n",
       "        <td id=\"T_0e658d66_6088_11ea_8b9c_0242ac11001crow12_col9\" class=\"data row12 col9\" >1</td> \n",
       "        <td id=\"T_0e658d66_6088_11ea_8b9c_0242ac11001crow12_col10\" class=\"data row12 col10\" >19</td> \n",
       "        <td id=\"T_0e658d66_6088_11ea_8b9c_0242ac11001crow12_col11\" class=\"data row12 col11\" >7</td> \n",
       "        <td id=\"T_0e658d66_6088_11ea_8b9c_0242ac11001crow12_col12\" class=\"data row12 col12\" >354</td> \n",
       "        <td id=\"T_0e658d66_6088_11ea_8b9c_0242ac11001crow12_col13\" class=\"data row12 col13\" >6</td> \n",
       "        <td id=\"T_0e658d66_6088_11ea_8b9c_0242ac11001crow12_col14\" class=\"data row12 col14\" >14</td> \n",
       "        <td id=\"T_0e658d66_6088_11ea_8b9c_0242ac11001crow12_col15\" class=\"data row12 col15\" >2</td> \n",
       "        <td id=\"T_0e658d66_6088_11ea_8b9c_0242ac11001crow12_col16\" class=\"data row12 col16\" >4</td> \n",
       "        <td id=\"T_0e658d66_6088_11ea_8b9c_0242ac11001crow12_col17\" class=\"data row12 col17\" >5</td> \n",
       "        <td id=\"T_0e658d66_6088_11ea_8b9c_0242ac11001crow12_col18\" class=\"data row12 col18\" >3</td> \n",
       "        <td id=\"T_0e658d66_6088_11ea_8b9c_0242ac11001crow12_col19\" class=\"data row12 col19\" >4</td> \n",
       "    </tr>    <tr> \n",
       "        <th id=\"T_0e658d66_6088_11ea_8b9c_0242ac11001clevel0_row13\" class=\"row_heading level0 row13\" >regression</th> \n",
       "        <td id=\"T_0e658d66_6088_11ea_8b9c_0242ac11001crow13_col0\" class=\"data row13 col0\" >119</td> \n",
       "        <td id=\"T_0e658d66_6088_11ea_8b9c_0242ac11001crow13_col1\" class=\"data row13 col1\" >59</td> \n",
       "        <td id=\"T_0e658d66_6088_11ea_8b9c_0242ac11001crow13_col2\" class=\"data row13 col2\" >21</td> \n",
       "        <td id=\"T_0e658d66_6088_11ea_8b9c_0242ac11001crow13_col3\" class=\"data row13 col3\" >42</td> \n",
       "        <td id=\"T_0e658d66_6088_11ea_8b9c_0242ac11001crow13_col4\" class=\"data row13 col4\" >31</td> \n",
       "        <td id=\"T_0e658d66_6088_11ea_8b9c_0242ac11001crow13_col5\" class=\"data row13 col5\" >34</td> \n",
       "        <td id=\"T_0e658d66_6088_11ea_8b9c_0242ac11001crow13_col6\" class=\"data row13 col6\" >9</td> \n",
       "        <td id=\"T_0e658d66_6088_11ea_8b9c_0242ac11001crow13_col7\" class=\"data row13 col7\" >37</td> \n",
       "        <td id=\"T_0e658d66_6088_11ea_8b9c_0242ac11001crow13_col8\" class=\"data row13 col8\" >2</td> \n",
       "        <td id=\"T_0e658d66_6088_11ea_8b9c_0242ac11001crow13_col9\" class=\"data row13 col9\" >6</td> \n",
       "        <td id=\"T_0e658d66_6088_11ea_8b9c_0242ac11001crow13_col10\" class=\"data row13 col10\" >24</td> \n",
       "        <td id=\"T_0e658d66_6088_11ea_8b9c_0242ac11001crow13_col11\" class=\"data row13 col11\" >11</td> \n",
       "        <td id=\"T_0e658d66_6088_11ea_8b9c_0242ac11001crow13_col12\" class=\"data row13 col12\" >6</td> \n",
       "        <td id=\"T_0e658d66_6088_11ea_8b9c_0242ac11001crow13_col13\" class=\"data row13 col13\" >347</td> \n",
       "        <td id=\"T_0e658d66_6088_11ea_8b9c_0242ac11001crow13_col14\" class=\"data row13 col14\" >6</td> \n",
       "        <td id=\"T_0e658d66_6088_11ea_8b9c_0242ac11001crow13_col15\" class=\"data row13 col15\" >10</td> \n",
       "        <td id=\"T_0e658d66_6088_11ea_8b9c_0242ac11001crow13_col16\" class=\"data row13 col16\" >28</td> \n",
       "        <td id=\"T_0e658d66_6088_11ea_8b9c_0242ac11001crow13_col17\" class=\"data row13 col17\" >2</td> \n",
       "        <td id=\"T_0e658d66_6088_11ea_8b9c_0242ac11001crow13_col18\" class=\"data row13 col18\" >16</td> \n",
       "        <td id=\"T_0e658d66_6088_11ea_8b9c_0242ac11001crow13_col19\" class=\"data row13 col19\" >8</td> \n",
       "    </tr>    <tr> \n",
       "        <th id=\"T_0e658d66_6088_11ea_8b9c_0242ac11001clevel0_row14\" class=\"row_heading level0 row14\" >dataset</th> \n",
       "        <td id=\"T_0e658d66_6088_11ea_8b9c_0242ac11001crow14_col0\" class=\"data row14 col0\" >99</td> \n",
       "        <td id=\"T_0e658d66_6088_11ea_8b9c_0242ac11001crow14_col1\" class=\"data row14 col1\" >53</td> \n",
       "        <td id=\"T_0e658d66_6088_11ea_8b9c_0242ac11001crow14_col2\" class=\"data row14 col2\" >32</td> \n",
       "        <td id=\"T_0e658d66_6088_11ea_8b9c_0242ac11001crow14_col3\" class=\"data row14 col3\" >20</td> \n",
       "        <td id=\"T_0e658d66_6088_11ea_8b9c_0242ac11001crow14_col4\" class=\"data row14 col4\" >13</td> \n",
       "        <td id=\"T_0e658d66_6088_11ea_8b9c_0242ac11001crow14_col5\" class=\"data row14 col5\" >28</td> \n",
       "        <td id=\"T_0e658d66_6088_11ea_8b9c_0242ac11001crow14_col6\" class=\"data row14 col6\" >9</td> \n",
       "        <td id=\"T_0e658d66_6088_11ea_8b9c_0242ac11001crow14_col7\" class=\"data row14 col7\" >9</td> \n",
       "        <td id=\"T_0e658d66_6088_11ea_8b9c_0242ac11001crow14_col8\" class=\"data row14 col8\" >11</td> \n",
       "        <td id=\"T_0e658d66_6088_11ea_8b9c_0242ac11001crow14_col9\" class=\"data row14 col9\" >11</td> \n",
       "        <td id=\"T_0e658d66_6088_11ea_8b9c_0242ac11001crow14_col10\" class=\"data row14 col10\" >6</td> \n",
       "        <td id=\"T_0e658d66_6088_11ea_8b9c_0242ac11001crow14_col11\" class=\"data row14 col11\" >7</td> \n",
       "        <td id=\"T_0e658d66_6088_11ea_8b9c_0242ac11001crow14_col12\" class=\"data row14 col12\" >14</td> \n",
       "        <td id=\"T_0e658d66_6088_11ea_8b9c_0242ac11001crow14_col13\" class=\"data row14 col13\" >6</td> \n",
       "        <td id=\"T_0e658d66_6088_11ea_8b9c_0242ac11001crow14_col14\" class=\"data row14 col14\" >340</td> \n",
       "        <td id=\"T_0e658d66_6088_11ea_8b9c_0242ac11001crow14_col15\" class=\"data row14 col15\" >6</td> \n",
       "        <td id=\"T_0e658d66_6088_11ea_8b9c_0242ac11001crow14_col16\" class=\"data row14 col16\" >7</td> \n",
       "        <td id=\"T_0e658d66_6088_11ea_8b9c_0242ac11001crow14_col17\" class=\"data row14 col17\" >5</td> \n",
       "        <td id=\"T_0e658d66_6088_11ea_8b9c_0242ac11001crow14_col18\" class=\"data row14 col18\" >17</td> \n",
       "        <td id=\"T_0e658d66_6088_11ea_8b9c_0242ac11001crow14_col19\" class=\"data row14 col19\" >12</td> \n",
       "    </tr>    <tr> \n",
       "        <th id=\"T_0e658d66_6088_11ea_8b9c_0242ac11001clevel0_row15\" class=\"row_heading level0 row15\" >r</th> \n",
       "        <td id=\"T_0e658d66_6088_11ea_8b9c_0242ac11001crow15_col0\" class=\"data row15 col0\" >63</td> \n",
       "        <td id=\"T_0e658d66_6088_11ea_8b9c_0242ac11001crow15_col1\" class=\"data row15 col1\" >24</td> \n",
       "        <td id=\"T_0e658d66_6088_11ea_8b9c_0242ac11001crow15_col2\" class=\"data row15 col2\" >5</td> \n",
       "        <td id=\"T_0e658d66_6088_11ea_8b9c_0242ac11001crow15_col3\" class=\"data row15 col3\" >9</td> \n",
       "        <td id=\"T_0e658d66_6088_11ea_8b9c_0242ac11001crow15_col4\" class=\"data row15 col4\" >10</td> \n",
       "        <td id=\"T_0e658d66_6088_11ea_8b9c_0242ac11001crow15_col5\" class=\"data row15 col5\" >10</td> \n",
       "        <td id=\"T_0e658d66_6088_11ea_8b9c_0242ac11001crow15_col6\" class=\"data row15 col6\" >1</td> \n",
       "        <td id=\"T_0e658d66_6088_11ea_8b9c_0242ac11001crow15_col7\" class=\"data row15 col7\" >1</td> \n",
       "        <td id=\"T_0e658d66_6088_11ea_8b9c_0242ac11001crow15_col8\" class=\"data row15 col8\" >4</td> \n",
       "        <td id=\"T_0e658d66_6088_11ea_8b9c_0242ac11001crow15_col9\" class=\"data row15 col9\" >2</td> \n",
       "        <td id=\"T_0e658d66_6088_11ea_8b9c_0242ac11001crow15_col10\" class=\"data row15 col10\" >22</td> \n",
       "        <td id=\"T_0e658d66_6088_11ea_8b9c_0242ac11001crow15_col11\" class=\"data row15 col11\" >3</td> \n",
       "        <td id=\"T_0e658d66_6088_11ea_8b9c_0242ac11001crow15_col12\" class=\"data row15 col12\" >2</td> \n",
       "        <td id=\"T_0e658d66_6088_11ea_8b9c_0242ac11001crow15_col13\" class=\"data row15 col13\" >10</td> \n",
       "        <td id=\"T_0e658d66_6088_11ea_8b9c_0242ac11001crow15_col14\" class=\"data row15 col14\" >6</td> \n",
       "        <td id=\"T_0e658d66_6088_11ea_8b9c_0242ac11001crow15_col15\" class=\"data row15 col15\" >268</td> \n",
       "        <td id=\"T_0e658d66_6088_11ea_8b9c_0242ac11001crow15_col16\" class=\"data row15 col16\" >13</td> \n",
       "        <td id=\"T_0e658d66_6088_11ea_8b9c_0242ac11001crow15_col17\" class=\"data row15 col17\" >16</td> \n",
       "        <td id=\"T_0e658d66_6088_11ea_8b9c_0242ac11001crow15_col18\" class=\"data row15 col18\" >16</td> \n",
       "        <td id=\"T_0e658d66_6088_11ea_8b9c_0242ac11001crow15_col19\" class=\"data row15 col19\" >7</td> \n",
       "    </tr>    <tr> \n",
       "        <th id=\"T_0e658d66_6088_11ea_8b9c_0242ac11001clevel0_row16\" class=\"row_heading level0 row16\" >predictive-modeling</th> \n",
       "        <td id=\"T_0e658d66_6088_11ea_8b9c_0242ac11001crow16_col0\" class=\"data row16 col0\" >123</td> \n",
       "        <td id=\"T_0e658d66_6088_11ea_8b9c_0242ac11001crow16_col1\" class=\"data row16 col1\" >35</td> \n",
       "        <td id=\"T_0e658d66_6088_11ea_8b9c_0242ac11001crow16_col2\" class=\"data row16 col2\" >32</td> \n",
       "        <td id=\"T_0e658d66_6088_11ea_8b9c_0242ac11001crow16_col3\" class=\"data row16 col3\" >13</td> \n",
       "        <td id=\"T_0e658d66_6088_11ea_8b9c_0242ac11001crow16_col4\" class=\"data row16 col4\" >11</td> \n",
       "        <td id=\"T_0e658d66_6088_11ea_8b9c_0242ac11001crow16_col5\" class=\"data row16 col5\" >27</td> \n",
       "        <td id=\"T_0e658d66_6088_11ea_8b9c_0242ac11001crow16_col6\" class=\"data row16 col6\" >6</td> \n",
       "        <td id=\"T_0e658d66_6088_11ea_8b9c_0242ac11001crow16_col7\" class=\"data row16 col7\" >12</td> \n",
       "        <td id=\"T_0e658d66_6088_11ea_8b9c_0242ac11001crow16_col8\" class=\"data row16 col8\" >1</td> \n",
       "        <td id=\"T_0e658d66_6088_11ea_8b9c_0242ac11001crow16_col9\" class=\"data row16 col9\" >6</td> \n",
       "        <td id=\"T_0e658d66_6088_11ea_8b9c_0242ac11001crow16_col10\" class=\"data row16 col10\" >31</td> \n",
       "        <td id=\"T_0e658d66_6088_11ea_8b9c_0242ac11001crow16_col11\" class=\"data row16 col11\" >13</td> \n",
       "        <td id=\"T_0e658d66_6088_11ea_8b9c_0242ac11001crow16_col12\" class=\"data row16 col12\" >4</td> \n",
       "        <td id=\"T_0e658d66_6088_11ea_8b9c_0242ac11001crow16_col13\" class=\"data row16 col13\" >28</td> \n",
       "        <td id=\"T_0e658d66_6088_11ea_8b9c_0242ac11001crow16_col14\" class=\"data row16 col14\" >7</td> \n",
       "        <td id=\"T_0e658d66_6088_11ea_8b9c_0242ac11001crow16_col15\" class=\"data row16 col15\" >13</td> \n",
       "        <td id=\"T_0e658d66_6088_11ea_8b9c_0242ac11001crow16_col16\" class=\"data row16 col16\" >265</td> \n",
       "        <td id=\"T_0e658d66_6088_11ea_8b9c_0242ac11001crow16_col17\" class=\"data row16 col17\" >0</td> \n",
       "        <td id=\"T_0e658d66_6088_11ea_8b9c_0242ac11001crow16_col18\" class=\"data row16 col18\" >16</td> \n",
       "        <td id=\"T_0e658d66_6088_11ea_8b9c_0242ac11001crow16_col19\" class=\"data row16 col19\" >21</td> \n",
       "    </tr>    <tr> \n",
       "        <th id=\"T_0e658d66_6088_11ea_8b9c_0242ac11001clevel0_row17\" class=\"row_heading level0 row17\" >clustering</th> \n",
       "        <td id=\"T_0e658d66_6088_11ea_8b9c_0242ac11001crow17_col0\" class=\"data row17 col0\" >61</td> \n",
       "        <td id=\"T_0e658d66_6088_11ea_8b9c_0242ac11001crow17_col1\" class=\"data row17 col1\" >45</td> \n",
       "        <td id=\"T_0e658d66_6088_11ea_8b9c_0242ac11001crow17_col2\" class=\"data row17 col2\" >2</td> \n",
       "        <td id=\"T_0e658d66_6088_11ea_8b9c_0242ac11001crow17_col3\" class=\"data row17 col3\" >8</td> \n",
       "        <td id=\"T_0e658d66_6088_11ea_8b9c_0242ac11001crow17_col4\" class=\"data row17 col4\" >0</td> \n",
       "        <td id=\"T_0e658d66_6088_11ea_8b9c_0242ac11001crow17_col5\" class=\"data row17 col5\" >12</td> \n",
       "        <td id=\"T_0e658d66_6088_11ea_8b9c_0242ac11001crow17_col6\" class=\"data row17 col6\" >0</td> \n",
       "        <td id=\"T_0e658d66_6088_11ea_8b9c_0242ac11001crow17_col7\" class=\"data row17 col7\" >24</td> \n",
       "        <td id=\"T_0e658d66_6088_11ea_8b9c_0242ac11001crow17_col8\" class=\"data row17 col8\" >9</td> \n",
       "        <td id=\"T_0e658d66_6088_11ea_8b9c_0242ac11001crow17_col9\" class=\"data row17 col9\" >0</td> \n",
       "        <td id=\"T_0e658d66_6088_11ea_8b9c_0242ac11001crow17_col10\" class=\"data row17 col10\" >20</td> \n",
       "        <td id=\"T_0e658d66_6088_11ea_8b9c_0242ac11001crow17_col11\" class=\"data row17 col11\" >3</td> \n",
       "        <td id=\"T_0e658d66_6088_11ea_8b9c_0242ac11001crow17_col12\" class=\"data row17 col12\" >5</td> \n",
       "        <td id=\"T_0e658d66_6088_11ea_8b9c_0242ac11001crow17_col13\" class=\"data row17 col13\" >2</td> \n",
       "        <td id=\"T_0e658d66_6088_11ea_8b9c_0242ac11001crow17_col14\" class=\"data row17 col14\" >5</td> \n",
       "        <td id=\"T_0e658d66_6088_11ea_8b9c_0242ac11001crow17_col15\" class=\"data row17 col15\" >16</td> \n",
       "        <td id=\"T_0e658d66_6088_11ea_8b9c_0242ac11001crow17_col16\" class=\"data row17 col16\" >0</td> \n",
       "        <td id=\"T_0e658d66_6088_11ea_8b9c_0242ac11001crow17_col17\" class=\"data row17 col17\" >257</td> \n",
       "        <td id=\"T_0e658d66_6088_11ea_8b9c_0242ac11001crow17_col18\" class=\"data row17 col18\" >3</td> \n",
       "        <td id=\"T_0e658d66_6088_11ea_8b9c_0242ac11001crow17_col19\" class=\"data row17 col19\" >3</td> \n",
       "    </tr>    <tr> \n",
       "        <th id=\"T_0e658d66_6088_11ea_8b9c_0242ac11001clevel0_row18\" class=\"row_heading level0 row18\" >statistics</th> \n",
       "        <td id=\"T_0e658d66_6088_11ea_8b9c_0242ac11001crow18_col0\" class=\"data row18 col0\" >89</td> \n",
       "        <td id=\"T_0e658d66_6088_11ea_8b9c_0242ac11001crow18_col1\" class=\"data row18 col1\" >35</td> \n",
       "        <td id=\"T_0e658d66_6088_11ea_8b9c_0242ac11001crow18_col2\" class=\"data row18 col2\" >12</td> \n",
       "        <td id=\"T_0e658d66_6088_11ea_8b9c_0242ac11001crow18_col3\" class=\"data row18 col3\" >11</td> \n",
       "        <td id=\"T_0e658d66_6088_11ea_8b9c_0242ac11001crow18_col4\" class=\"data row18 col4\" >3</td> \n",
       "        <td id=\"T_0e658d66_6088_11ea_8b9c_0242ac11001crow18_col5\" class=\"data row18 col5\" >19</td> \n",
       "        <td id=\"T_0e658d66_6088_11ea_8b9c_0242ac11001crow18_col6\" class=\"data row18 col6\" >0</td> \n",
       "        <td id=\"T_0e658d66_6088_11ea_8b9c_0242ac11001crow18_col7\" class=\"data row18 col7\" >6</td> \n",
       "        <td id=\"T_0e658d66_6088_11ea_8b9c_0242ac11001crow18_col8\" class=\"data row18 col8\" >3</td> \n",
       "        <td id=\"T_0e658d66_6088_11ea_8b9c_0242ac11001crow18_col9\" class=\"data row18 col9\" >1</td> \n",
       "        <td id=\"T_0e658d66_6088_11ea_8b9c_0242ac11001crow18_col10\" class=\"data row18 col10\" >22</td> \n",
       "        <td id=\"T_0e658d66_6088_11ea_8b9c_0242ac11001crow18_col11\" class=\"data row18 col11\" >1</td> \n",
       "        <td id=\"T_0e658d66_6088_11ea_8b9c_0242ac11001crow18_col12\" class=\"data row18 col12\" >3</td> \n",
       "        <td id=\"T_0e658d66_6088_11ea_8b9c_0242ac11001crow18_col13\" class=\"data row18 col13\" >16</td> \n",
       "        <td id=\"T_0e658d66_6088_11ea_8b9c_0242ac11001crow18_col14\" class=\"data row18 col14\" >17</td> \n",
       "        <td id=\"T_0e658d66_6088_11ea_8b9c_0242ac11001crow18_col15\" class=\"data row18 col15\" >16</td> \n",
       "        <td id=\"T_0e658d66_6088_11ea_8b9c_0242ac11001crow18_col16\" class=\"data row18 col16\" >16</td> \n",
       "        <td id=\"T_0e658d66_6088_11ea_8b9c_0242ac11001crow18_col17\" class=\"data row18 col17\" >3</td> \n",
       "        <td id=\"T_0e658d66_6088_11ea_8b9c_0242ac11001crow18_col18\" class=\"data row18 col18\" >234</td> \n",
       "        <td id=\"T_0e658d66_6088_11ea_8b9c_0242ac11001crow18_col19\" class=\"data row18 col19\" >3</td> \n",
       "    </tr>    <tr> \n",
       "        <th id=\"T_0e658d66_6088_11ea_8b9c_0242ac11001clevel0_row19\" class=\"row_heading level0 row19\" >machine-learning-model</th> \n",
       "        <td id=\"T_0e658d66_6088_11ea_8b9c_0242ac11001crow19_col0\" class=\"data row19 col0\" >139</td> \n",
       "        <td id=\"T_0e658d66_6088_11ea_8b9c_0242ac11001crow19_col1\" class=\"data row19 col1\" >37</td> \n",
       "        <td id=\"T_0e658d66_6088_11ea_8b9c_0242ac11001crow19_col2\" class=\"data row19 col2\" >19</td> \n",
       "        <td id=\"T_0e658d66_6088_11ea_8b9c_0242ac11001crow19_col3\" class=\"data row19 col3\" >10</td> \n",
       "        <td id=\"T_0e658d66_6088_11ea_8b9c_0242ac11001crow19_col4\" class=\"data row19 col4\" >17</td> \n",
       "        <td id=\"T_0e658d66_6088_11ea_8b9c_0242ac11001crow19_col5\" class=\"data row19 col5\" >21</td> \n",
       "        <td id=\"T_0e658d66_6088_11ea_8b9c_0242ac11001crow19_col6\" class=\"data row19 col6\" >9</td> \n",
       "        <td id=\"T_0e658d66_6088_11ea_8b9c_0242ac11001crow19_col7\" class=\"data row19 col7\" >18</td> \n",
       "        <td id=\"T_0e658d66_6088_11ea_8b9c_0242ac11001crow19_col8\" class=\"data row19 col8\" >4</td> \n",
       "        <td id=\"T_0e658d66_6088_11ea_8b9c_0242ac11001crow19_col9\" class=\"data row19 col9\" >4</td> \n",
       "        <td id=\"T_0e658d66_6088_11ea_8b9c_0242ac11001crow19_col10\" class=\"data row19 col10\" >7</td> \n",
       "        <td id=\"T_0e658d66_6088_11ea_8b9c_0242ac11001crow19_col11\" class=\"data row19 col11\" >5</td> \n",
       "        <td id=\"T_0e658d66_6088_11ea_8b9c_0242ac11001crow19_col12\" class=\"data row19 col12\" >4</td> \n",
       "        <td id=\"T_0e658d66_6088_11ea_8b9c_0242ac11001crow19_col13\" class=\"data row19 col13\" >8</td> \n",
       "        <td id=\"T_0e658d66_6088_11ea_8b9c_0242ac11001crow19_col14\" class=\"data row19 col14\" >12</td> \n",
       "        <td id=\"T_0e658d66_6088_11ea_8b9c_0242ac11001crow19_col15\" class=\"data row19 col15\" >7</td> \n",
       "        <td id=\"T_0e658d66_6088_11ea_8b9c_0242ac11001crow19_col16\" class=\"data row19 col16\" >21</td> \n",
       "        <td id=\"T_0e658d66_6088_11ea_8b9c_0242ac11001crow19_col17\" class=\"data row19 col17\" >3</td> \n",
       "        <td id=\"T_0e658d66_6088_11ea_8b9c_0242ac11001crow19_col18\" class=\"data row19 col18\" >3</td> \n",
       "        <td id=\"T_0e658d66_6088_11ea_8b9c_0242ac11001crow19_col19\" class=\"data row19 col19\" >224</td> \n",
       "    </tr></tbody> \n",
       "</table> "
      ],
      "text/plain": [
       "<pandas.io.formats.style.Styler at 0x7f6875bc8b00>"
      ]
     },
     "execution_count": 20,
     "metadata": {},
     "output_type": "execute_result"
    }
   ],
   "source": [
    "most_paired_tags = paired_tags.loc[most_used.index, most_used.index]\n",
    "\n",
    "def style_cells(x):\n",
    "    helper_df = pd.DataFrame('', index=x.index, columns=x.columns)\n",
    "    helper_df.loc[\"time-series\", \"r\"] = \"background-color: yellow\"\n",
    "    helper_df.loc[\"r\", \"time-series\"] = \"background-color: yellow\"\n",
    "    for k in range(helper_df.shape[0]):\n",
    "        helper_df.iloc[k,k] = \"color: blue\"\n",
    "    \n",
    "    return helper_df\n",
    "\n",
    "most_paired_tags.style.apply(style_cells, axis=None)"
   ]
  },
  {
   "cell_type": "markdown",
   "metadata": {},
   "source": [
    "The blue values are the count for each tag used. Machine learning has 2693 as observed before. The r and time-series tags are used 22 times. For a better understanding of the dataframe results a heatmap can be used to visualize the data. The data in blue will be removed to avoid the colors from being skewed."
   ]
  },
  {
   "cell_type": "code",
   "execution_count": 21,
   "metadata": {
    "collapsed": false
   },
   "outputs": [
    {
     "data": {
      "text/plain": [
       "<matplotlib.axes._subplots.AxesSubplot at 0x7f6875348588>"
      ]
     },
     "execution_count": 21,
     "metadata": {},
     "output_type": "execute_result"
    },
    {
     "data": {
      "image/png": "[encoded data removed]",
      "text/plain": [
       "<matplotlib.figure.Figure at 0x7f6875d4f1d0>"
      ]
     },
     "metadata": {},
     "output_type": "display_data"
    }
   ],
   "source": [
    "for i in range(most_paired_tags.shape[0]):\n",
    "    most_paired_tags.iloc[i,i] = pd.np.NaN\n",
    "    \n",
    "plt.figure(figsize=(12,8))\n",
    "sns.heatmap(most_paired_tags, cmap=\"Greens\", annot=False)"
   ]
  },
  {
   "cell_type": "markdown",
   "metadata": {
    "collapsed": true
   },
   "source": [
    "From the heat plot it is noticable that python and machine learning have a strong relationship. This could be because both tags are commonly used in each question tag. The heat map's color becomes thicker around the top left corner of the plot indicating that the machine learning and python tags could have relationships with other tags as well like deep-learning, keras and neural networks.\n",
    "\n",
    "Despite the fact that the python and machine learning tags are strongly related their relationship could be investigated. They both could just be popular tags that happen to appear in question tags several times throught the dataset.\n",
    "\n",
    "Association rules could help to establish their dependence or independence to know if they are truly related or they just coexsists in question tags. An example to this effect is the relationship of toilet paper and bread being more independent in a grocery basket than milk and eggs. "
   ]
  },
  {
   "cell_type": "markdown",
   "metadata": {},
   "source": [
    "# Is deep learning just a fad?"
   ]
  },
  {
   "cell_type": "markdown",
   "metadata": {},
   "source": [
    "Before making recomendations about using the top popoular tags on data science for content creators to post their questions the content that would be geberated will only be relevant if data science topics remain relevant in the log run. One of these is in deep learning. It will be interesting to know if interest in deep learning will slow down.\n",
    "\n",
    "The DSSE provides data information about all questions ever asked about deep learning. The dataset from the DSSE and the analysis of the results are below."
   ]
  },
  {
   "cell_type": "code",
   "execution_count": 22,
   "metadata": {
    "collapsed": false
   },
   "outputs": [],
   "source": [
    "# Reading and cleaning the dataset\n",
    "\n",
    "all_q = pd.read_csv('all_questions.csv', parse_dates=['CreationDate'])"
   ]
  },
  {
   "cell_type": "code",
   "execution_count": 23,
   "metadata": {
    "collapsed": true
   },
   "outputs": [],
   "source": [
    "# Cleaning the tag column\n",
    "\n",
    "all_q[\"Tags\"] = all_q[\"Tags\"].str.replace(\"^<|>$\", \"\").str.split(\"><\")"
   ]
  },
  {
   "cell_type": "markdown",
   "metadata": {},
   "source": [
    "To determine which questions in the dataset are deep learning questions first the questions that have deep learning tags should be indentified. From the top used tags related to deep learning after some research online the following tags belong to the list [\"lstm\", \"cnn\", \"scikit-learn\", \"tensorflow\", \"keras\", \"neural-network\", \"deep-learning\"].\n",
    "\n",
    "A new column in the dataset using the following code below will give 1 to a column that has one of the tags in the above list and 0 otherwise."
   ]
  },
  {
   "cell_type": "code",
   "execution_count": 24,
   "metadata": {
    "collapsed": false
   },
   "outputs": [],
   "source": [
    "def class_deep_learning(tags):\n",
    "    tag_list = [\"lstm\", \"cnn\", \"scikit-learn\", \"tensorflow\", \"keras\", \"neural-network\", \"deep-learning\"]\n",
    "    for tag in tags:\n",
    "        if tag in tag_list:\n",
    "            return 1\n",
    "    return 0"
   ]
  },
  {
   "cell_type": "code",
   "execution_count": 25,
   "metadata": {
    "collapsed": false
   },
   "outputs": [],
   "source": [
    "\n",
    "all_q['DeepLearning'] = all_q['Tags'].apply(class_deep_learning)"
   ]
  },
  {
   "cell_type": "code",
   "execution_count": 26,
   "metadata": {
    "collapsed": false
   },
   "outputs": [
    {
     "data": {
      "text/html": [
       "<div>\n",
       "<style scoped>\n",
       "    .dataframe tbody tr th:only-of-type {\n",
       "        vertical-align: middle;\n",
       "    }\n",
       "\n",
       "    .dataframe tbody tr th {\n",
       "        vertical-align: top;\n",
       "    }\n",
       "\n",
       "    .dataframe thead th {\n",
       "        text-align: right;\n",
       "    }\n",
       "</style>\n",
       "<table border=\"1\" class=\"dataframe\">\n",
       "  <thead>\n",
       "    <tr style=\"text-align: right;\">\n",
       "      <th></th>\n",
       "      <th>Id</th>\n",
       "      <th>CreationDate</th>\n",
       "      <th>Tags</th>\n",
       "      <th>DeepLearning</th>\n",
       "    </tr>\n",
       "  </thead>\n",
       "  <tbody>\n",
       "    <tr>\n",
       "      <th>20687</th>\n",
       "      <td>66061</td>\n",
       "      <td>2020-01-07 23:46:20</td>\n",
       "      <td>[tensorflow]</td>\n",
       "      <td>1</td>\n",
       "    </tr>\n",
       "    <tr>\n",
       "      <th>13670</th>\n",
       "      <td>10144</td>\n",
       "      <td>2016-02-08 19:55:06</td>\n",
       "      <td>[time-series, markov-process, reference-request]</td>\n",
       "      <td>0</td>\n",
       "    </tr>\n",
       "    <tr>\n",
       "      <th>8128</th>\n",
       "      <td>49023</td>\n",
       "      <td>2019-04-10 07:27:26</td>\n",
       "      <td>[machine-learning, python, deep-learning, scik...</td>\n",
       "      <td>1</td>\n",
       "    </tr>\n",
       "    <tr>\n",
       "      <th>4567</th>\n",
       "      <td>4935</td>\n",
       "      <td>2015-01-24 15:15:27</td>\n",
       "      <td>[apache-hadoop]</td>\n",
       "      <td>0</td>\n",
       "    </tr>\n",
       "    <tr>\n",
       "      <th>4735</th>\n",
       "      <td>26588</td>\n",
       "      <td>2018-01-13 08:27:47</td>\n",
       "      <td>[dataset, data, version-control]</td>\n",
       "      <td>0</td>\n",
       "    </tr>\n",
       "  </tbody>\n",
       "</table>\n",
       "</div>"
      ],
      "text/plain": [
       "          Id        CreationDate  \\\n",
       "20687  66061 2020-01-07 23:46:20   \n",
       "13670  10144 2016-02-08 19:55:06   \n",
       "8128   49023 2019-04-10 07:27:26   \n",
       "4567    4935 2015-01-24 15:15:27   \n",
       "4735   26588 2018-01-13 08:27:47   \n",
       "\n",
       "                                                    Tags  DeepLearning  \n",
       "20687                                       [tensorflow]             1  \n",
       "13670   [time-series, markov-process, reference-request]             0  \n",
       "8128   [machine-learning, python, deep-learning, scik...             1  \n",
       "4567                                     [apache-hadoop]             0  \n",
       "4735                    [dataset, data, version-control]             0  "
      ]
     },
     "execution_count": 26,
     "metadata": {},
     "output_type": "execute_result"
    }
   ],
   "source": [
    "all_q.sample(5)"
   ]
  },
  {
   "cell_type": "markdown",
   "metadata": {},
   "source": [
    "Now that the deep learning questions have been filtered the interest in deep learning would be monitored across a given timeframe. A quaterly timeframe will be appropriate since data science questions are not as dynamic to keep track of their changes in a smaller time period such as days, weeks, or months.\n",
    "\n",
    "Since the data for the first quater of 2020 is unavailable 2020 data will be removed."
   ]
  },
  {
   "cell_type": "code",
   "execution_count": 27,
   "metadata": {
    "collapsed": false
   },
   "outputs": [],
   "source": [
    "all_q = all_q[all_q['CreationDate'].dt.year < 2020]"
   ]
  },
  {
   "cell_type": "code",
   "execution_count": 31,
   "metadata": {
    "collapsed": true
   },
   "outputs": [],
   "source": [
    "# Function to determine what quater a date is in\n",
    "\n",
    "def determine_quarter(date):\n",
    "    year = str(date.year)[2:]\n",
    "    quarter = str((date.month // 3) + 1)\n",
    "    return '{y}QT{q}'.format(y = year, q= quarter)\n",
    "\n",
    "all_q['Quarter'] = all_q['CreationDate'].apply(determine_quarter)"
   ]
  },
  {
   "cell_type": "code",
   "execution_count": 32,
   "metadata": {
    "collapsed": false
   },
   "outputs": [
    {
     "data": {
      "text/html": [
       "<div>\n",
       "<style scoped>\n",
       "    .dataframe tbody tr th:only-of-type {\n",
       "        vertical-align: middle;\n",
       "    }\n",
       "\n",
       "    .dataframe tbody tr th {\n",
       "        vertical-align: top;\n",
       "    }\n",
       "\n",
       "    .dataframe thead th {\n",
       "        text-align: right;\n",
       "    }\n",
       "</style>\n",
       "<table border=\"1\" class=\"dataframe\">\n",
       "  <thead>\n",
       "    <tr style=\"text-align: right;\">\n",
       "      <th></th>\n",
       "      <th>Id</th>\n",
       "      <th>CreationDate</th>\n",
       "      <th>Tags</th>\n",
       "      <th>DeepLearning</th>\n",
       "      <th>Quarter</th>\n",
       "    </tr>\n",
       "  </thead>\n",
       "  <tbody>\n",
       "    <tr>\n",
       "      <th>0</th>\n",
       "      <td>45416</td>\n",
       "      <td>2019-02-12 00:36:29</td>\n",
       "      <td>[python, keras, tensorflow, cnn, probability]</td>\n",
       "      <td>1</td>\n",
       "      <td>19QT1</td>\n",
       "    </tr>\n",
       "    <tr>\n",
       "      <th>1</th>\n",
       "      <td>45418</td>\n",
       "      <td>2019-02-12 00:50:39</td>\n",
       "      <td>[neural-network]</td>\n",
       "      <td>1</td>\n",
       "      <td>19QT1</td>\n",
       "    </tr>\n",
       "    <tr>\n",
       "      <th>2</th>\n",
       "      <td>45422</td>\n",
       "      <td>2019-02-12 04:40:51</td>\n",
       "      <td>[python, ibm-watson, chatbot]</td>\n",
       "      <td>0</td>\n",
       "      <td>19QT1</td>\n",
       "    </tr>\n",
       "    <tr>\n",
       "      <th>3</th>\n",
       "      <td>45426</td>\n",
       "      <td>2019-02-12 04:51:49</td>\n",
       "      <td>[keras]</td>\n",
       "      <td>1</td>\n",
       "      <td>19QT1</td>\n",
       "    </tr>\n",
       "    <tr>\n",
       "      <th>4</th>\n",
       "      <td>45427</td>\n",
       "      <td>2019-02-12 05:08:24</td>\n",
       "      <td>[r, predictive-modeling, machine-learning-mode...</td>\n",
       "      <td>0</td>\n",
       "      <td>19QT1</td>\n",
       "    </tr>\n",
       "  </tbody>\n",
       "</table>\n",
       "</div>"
      ],
      "text/plain": [
       "      Id        CreationDate  \\\n",
       "0  45416 2019-02-12 00:36:29   \n",
       "1  45418 2019-02-12 00:50:39   \n",
       "2  45422 2019-02-12 04:40:51   \n",
       "3  45426 2019-02-12 04:51:49   \n",
       "4  45427 2019-02-12 05:08:24   \n",
       "\n",
       "                                                Tags  DeepLearning Quarter  \n",
       "0      [python, keras, tensorflow, cnn, probability]             1   19QT1  \n",
       "1                                   [neural-network]             1   19QT1  \n",
       "2                      [python, ibm-watson, chatbot]             0   19QT1  \n",
       "3                                            [keras]             1   19QT1  \n",
       "4  [r, predictive-modeling, machine-learning-mode...             0   19QT1  "
      ]
     },
     "execution_count": 32,
     "metadata": {},
     "output_type": "execute_result"
    }
   ],
   "source": [
    "all_q.head()"
   ]
  },
  {
   "cell_type": "markdown",
   "metadata": {},
   "source": [
    "Before visualizing the information for each time period the dataframe will be grouped by quarter to show the following\n",
    "\n",
    "* Count the number of deep learning questions.\n",
    "* Count the total number of questions.\n",
    "* Compute the ratio between the two numbers above."
   ]
  },
  {
   "cell_type": "code",
   "execution_count": 33,
   "metadata": {
    "collapsed": true
   },
   "outputs": [],
   "source": [
    "quarterly = all_q.groupby('Quarter').agg({\"DeepLearning\": ['sum', 'size']})\n",
    "quarterly.columns = ['DeepLearningQuestions', 'TotalQuestions']\n",
    "quarterly[\"DeepLearningRate\"] = quarterly[\"DeepLearningQuestions\"] / quarterly[\"TotalQuestions\"]"
   ]
  },
  {
   "cell_type": "code",
   "execution_count": 34,
   "metadata": {
    "collapsed": false
   },
   "outputs": [
    {
     "data": {
      "text/html": [
       "<div>\n",
       "<style scoped>\n",
       "    .dataframe tbody tr th:only-of-type {\n",
       "        vertical-align: middle;\n",
       "    }\n",
       "\n",
       "    .dataframe tbody tr th {\n",
       "        vertical-align: top;\n",
       "    }\n",
       "\n",
       "    .dataframe thead th {\n",
       "        text-align: right;\n",
       "    }\n",
       "</style>\n",
       "<table border=\"1\" class=\"dataframe\">\n",
       "  <thead>\n",
       "    <tr style=\"text-align: right;\">\n",
       "      <th></th>\n",
       "      <th>Quarter</th>\n",
       "      <th>DeepLearningQuestions</th>\n",
       "      <th>TotalQuestions</th>\n",
       "      <th>DeepLearningRate</th>\n",
       "    </tr>\n",
       "  </thead>\n",
       "  <tbody>\n",
       "    <tr>\n",
       "      <th>8</th>\n",
       "      <td>15QT5</td>\n",
       "      <td>39</td>\n",
       "      <td>150</td>\n",
       "      <td>0.260000</td>\n",
       "    </tr>\n",
       "    <tr>\n",
       "      <th>17</th>\n",
       "      <td>17QT4</td>\n",
       "      <td>272</td>\n",
       "      <td>771</td>\n",
       "      <td>0.352789</td>\n",
       "    </tr>\n",
       "    <tr>\n",
       "      <th>1</th>\n",
       "      <td>14QT3</td>\n",
       "      <td>19</td>\n",
       "      <td>240</td>\n",
       "      <td>0.079167</td>\n",
       "    </tr>\n",
       "    <tr>\n",
       "      <th>18</th>\n",
       "      <td>17QT5</td>\n",
       "      <td>142</td>\n",
       "      <td>322</td>\n",
       "      <td>0.440994</td>\n",
       "    </tr>\n",
       "    <tr>\n",
       "      <th>27</th>\n",
       "      <td>19QT4</td>\n",
       "      <td>787</td>\n",
       "      <td>2031</td>\n",
       "      <td>0.387494</td>\n",
       "    </tr>\n",
       "  </tbody>\n",
       "</table>\n",
       "</div>"
      ],
      "text/plain": [
       "   Quarter  DeepLearningQuestions  TotalQuestions  DeepLearningRate\n",
       "8    15QT5                     39             150          0.260000\n",
       "17   17QT4                    272             771          0.352789\n",
       "1    14QT3                     19             240          0.079167\n",
       "18   17QT5                    142             322          0.440994\n",
       "27   19QT4                    787            2031          0.387494"
      ]
     },
     "execution_count": 34,
     "metadata": {},
     "output_type": "execute_result"
    }
   ],
   "source": [
    "quarterly.reset_index(inplace=True)\n",
    "quarterly.sample(5)"
   ]
  },
  {
   "cell_type": "markdown",
   "metadata": {},
   "source": [
    "The plot of each quarter's DeepLearningRate and TotalQuestions is below"
   ]
  },
  {
   "cell_type": "code",
   "execution_count": 57,
   "metadata": {
    "collapsed": false
   },
   "outputs": [
    {
     "data": {
      "image/png": "[encoded data removed]",
      "text/plain": [
       "<matplotlib.figure.Figure at 0x7f6875d0a400>"
      ]
     },
     "metadata": {},
     "output_type": "display_data"
    }
   ],
   "source": [
    "ax1 = quarterly.plot(x=\"Quarter\", y=\"DeepLearningRate\",\n",
    "                    kind=\"line\", linestyle=\"-\", marker=\"o\", color=\"orange\",\n",
    "                    figsize=(12,8)\n",
    "                    )\n",
    "\n",
    "ax2 = quarterly.plot(x=\"Quarter\", y=\"TotalQuestions\",\n",
    "                     kind=\"bar\", ax=ax1, secondary_y=True, alpha=0.7, rot=45)\n",
    "\n",
    "for idx, t in enumerate(quarterly[\"TotalQuestions\"]):\n",
    "    ax2.text(idx, t, str(t), ha=\"center\", va=\"bottom\")\n",
    "xlims = ax1.get_xlim()\n",
    "\n",
    "ax1.get_legend().remove()\n",
    "\n",
    "handles1, labels1 = ax1.get_legend_handles_labels()\n",
    "handles2, labels2 = ax2.get_legend_handles_labels()\n",
    "ax1.legend(handles=handles1 + handles2,\n",
    "           labels=labels1 + labels2,\n",
    "           loc=\"upper left\", prop={\"size\": 12})\n",
    "\n",
    "\n",
    "for ax in (ax1, ax2):\n",
    "    for where in (\"top\", \"right\"):\n",
    "        ax.spines[where].set_visible(False)\n",
    "        ax.tick_params(right=False, labelright=False)"
   ]
  },
  {
   "cell_type": "markdown",
   "metadata": {},
   "source": [
    "From the plot there is an overall increase in the DeepLearningRate ever since the DSSE was created. It reached its plateux in the second quarter of 2018 and remained relatively stable. There is no indication of a decreasing trend in deep learning questions. \n",
    "\n",
    "Deep learning questions or questions related to deep learning such as machine learning and neural networks based on the above results are good tags to consider for the content writers to generate questions. Python related questions using these tags also should be considered as well. \n",
    "\n",
    "Further exploration can find not so popular tags related to those that popular to generate questions. Other popularity features can be added in future analysis such as scores and favorite counts for posted questions. Non data science questions could also be explored such as the mathematical field from other sites to know what other kinds of questions are asked in other popular fields. "
   ]
  }
 ],
 "metadata": {
  "kernelspec": {
   "display_name": "Python 3",
   "language": "python",
   "name": "python3"
  },
  "language_info": {
   "codemirror_mode": {
    "name": "ipython",
    "version": 3
   },
   "file_extension": ".py",
   "mimetype": "text/x-python",
   "name": "python",
   "nbconvert_exporter": "python",
   "pygments_lexer": "ipython3",
   "version": "3.4.3"
  }
 },
 "nbformat": 4,
 "nbformat_minor": 2
}
