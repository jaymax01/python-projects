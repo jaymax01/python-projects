{
 "cells": [
  {
   "cell_type": "markdown",
   "metadata": {},
   "source": [
    "# Profitable app profiles for the App store and Google play markets.\n",
    "\n",
    "* The company that builds free downloadable Android and iOS apps accessible on google play and the App store. Revenues for the company are generated from ads displayed on its apps and would like more of their app users to engage with the adds displayed. \n",
    "\n",
    "* The goal from the analysis is to assist app developers at the company to make data driven decisions in determinig what apps to design that could attrack more users on both Google play and the App store. Datasets from both Google play and the App store were collected for the analysis.  "
   ]
  },
  {
   "cell_type": "code",
   "execution_count": 1,
   "metadata": {
    "collapsed": false
   },
   "outputs": [],
   "source": [
    "# reading the data sets into lists\n",
    "Apple_store_data = open('AppleStore.csv')\n",
    "Google_store_data = open('googleplaystore.csv')\n",
    "from csv import reader\n",
    "Apple = reader(Apple_store_data)\n",
    "Google = reader(Google_store_data)\n",
    "Apple_data = list(Apple)\n",
    "Google_data = list(Google)"
   ]
  },
  {
   "cell_type": "code",
   "execution_count": 2,
   "metadata": {
    "collapsed": false
   },
   "outputs": [
    {
     "name": "stdout",
     "output_type": "stream",
     "text": [
      "['284882215', 'Facebook', '389879808', 'USD', '0.0', '2974676', '212', '3.5', '3.5', '95.0', '4+', 'Social Networking', '37', '1', '29', '1']\n",
      "\n",
      "\n",
      "['389801252', 'Instagram', '113954816', 'USD', '0.0', '2161558', '1289', '4.5', '4.0', '10.23', '12+', 'Photo & Video', '37', '0', '29', '1']\n",
      "\n",
      "\n",
      "\n",
      "\n",
      "['Photo Editor & Candy Camera & Grid & ScrapBook', 'ART_AND_DESIGN', '4.1', '159', '19M', '10,000+', 'Free', '0', 'Everyone', 'Art & Design', 'January 7, 2018', '1.0.0', '4.0.3 and up']\n",
      "\n",
      "\n",
      "['Coloring book moana', 'ART_AND_DESIGN', '3.9', '967', '14M', '500,000+', 'Free', '0', 'Everyone', 'Art & Design;Pretend Play', 'January 15, 2018', '2.0.0', '4.0.3 and up']\n",
      "\n",
      "\n",
      "['284882215', 'Facebook', '389879808', 'USD', '0.0', '2974676', '212', '3.5', '3.5', '95.0', '4+', 'Social Networking', '37', '1', '29', '1']\n",
      "\n",
      "\n",
      "['389801252', 'Instagram', '113954816', 'USD', '0.0', '2161558', '1289', '4.5', '4.0', '10.23', '12+', 'Photo & Video', '37', '0', '29', '1']\n",
      "\n",
      "\n",
      "['529479190', 'Clash of Clans', '116476928', 'USD', '0.0', '2130805', '579', '4.5', '4.5', '9.24.12', '9+', 'Games', '38', '5', '18', '1']\n",
      "\n",
      "\n",
      "Number of rows: 7197\n",
      "Number of columns: 16\n",
      "\n",
      "\n",
      "['Photo Editor & Candy Camera & Grid & ScrapBook', 'ART_AND_DESIGN', '4.1', '159', '19M', '10,000+', 'Free', '0', 'Everyone', 'Art & Design', 'January 7, 2018', '1.0.0', '4.0.3 and up']\n",
      "\n",
      "\n",
      "['Coloring book moana', 'ART_AND_DESIGN', '3.9', '967', '14M', '500,000+', 'Free', '0', 'Everyone', 'Art & Design;Pretend Play', 'January 15, 2018', '2.0.0', '4.0.3 and up']\n",
      "\n",
      "\n",
      "['U Launcher Lite – FREE Live Cool Themes, Hide Apps', 'ART_AND_DESIGN', '4.7', '87510', '8.7M', '5,000,000+', 'Free', '0', 'Everyone', 'Art & Design', 'August 1, 2018', '1.2.4', '4.0.3 and up']\n",
      "\n",
      "\n",
      "Number of rows: 10841\n",
      "Number of columns: 13\n"
     ]
    }
   ],
   "source": [
    "# exploring the data sets\n",
    "def explore_data(dataset, start, end, rows_and_columns=False):\n",
    "    dataset_slice = dataset[start:end]    \n",
    "    for row in dataset_slice:\n",
    "        print(row)\n",
    "        print('\\n') # adds a new (empty) line after each row\n",
    "\n",
    "    if rows_and_columns:\n",
    "        print('Number of rows:', len(dataset))\n",
    "        print('Number of columns:', len(dataset[0]))\n",
    "        \n",
    "# first few rows of each data set\n",
    "explore_data(Apple_data, 1, 3)\n",
    "print('\\n')\n",
    "explore_data(Google_data, 1, 3)\n",
    "\n",
    "# number of rows and colums of each data set\n",
    "Apple_no_header = Apple_data[1:]\n",
    "explore_data(Apple_no_header, 0, 3, True)\n",
    "print('\\n')\n",
    "Google_no_header = Google_data[1:]\n",
    "explore_data(Google_no_header, 0, 3, True)\n",
    "\n",
    "\n",
    "        \n"
   ]
  },
  {
   "cell_type": "code",
   "execution_count": 3,
   "metadata": {
    "collapsed": false
   },
   "outputs": [
    {
     "name": "stdout",
     "output_type": "stream",
     "text": [
      "['id', 'track_name', 'size_bytes', 'currency', 'price', 'rating_count_tot', 'rating_count_ver', 'user_rating', 'user_rating_ver', 'ver', 'cont_rating', 'prime_genre', 'sup_devices.num', 'ipadSc_urls.num', 'lang.num', 'vpp_lic']\n",
      "\n",
      "\n",
      "['App', 'Category', 'Rating', 'Reviews', 'Size', 'Installs', 'Type', 'Price', 'Content Rating', 'Genres', 'Last Updated', 'Current Ver', 'Android Ver']\n"
     ]
    }
   ],
   "source": [
    "# column names\n",
    "Apple_header = Apple_data[0]\n",
    "Google_header = Google_data[0]\n",
    "print(Apple_header)\n",
    "print('\\n')\n",
    "print(Google_header)"
   ]
  },
  {
   "cell_type": "markdown",
   "metadata": {},
   "source": [
    "The columns of the Apple iOS data that could be helpful for the analysis are track_name, currency, price, rating count_tot, rating_count_ver, cont_rating and prime_genre. The documentation for the columns can be found here [Link](https://www.kaggle.com/ramamet4/app-store-apple-data-set-10k-apps/home)\n",
    "\n",
    "The columns for the Google play data that could be useful for the analysis are Category, Rating, reviews, Installs, Type, Price and Genres. The documantation for the columns can be found here [Link](https://www.kaggle.com/lava18/google-play-store-apps/home#googleplaystore.csv)"
   ]
  },
  {
   "cell_type": "code",
   "execution_count": 4,
   "metadata": {
    "collapsed": false
   },
   "outputs": [
    {
     "data": {
      "text/plain": [
       "['App',\n",
       " 'Category',\n",
       " 'Rating',\n",
       " 'Reviews',\n",
       " 'Size',\n",
       " 'Installs',\n",
       " 'Type',\n",
       " 'Price',\n",
       " 'Content Rating',\n",
       " 'Genres',\n",
       " 'Last Updated',\n",
       " 'Current Ver',\n",
       " 'Android Ver']"
      ]
     },
     "execution_count": 4,
     "metadata": {},
     "output_type": "execute_result"
    }
   ],
   "source": [
    "# Finding the error row\n",
    "Google_data[0]\n",
    "\n"
   ]
  },
  {
   "cell_type": "code",
   "execution_count": 5,
   "metadata": {
    "collapsed": false
   },
   "outputs": [
    {
     "data": {
      "text/plain": [
       "['Life Made WI-Fi Touchscreen Photo Frame',\n",
       " '1.9',\n",
       " '19',\n",
       " '3.0M',\n",
       " '1,000+',\n",
       " 'Free',\n",
       " '0',\n",
       " 'Everyone',\n",
       " '',\n",
       " 'February 11, 2018',\n",
       " '1.0.19',\n",
       " '4.0 and up']"
      ]
     },
     "execution_count": 5,
     "metadata": {},
     "output_type": "execute_result"
    }
   ],
   "source": [
    "Google_data[10473]"
   ]
  },
  {
   "cell_type": "markdown",
   "metadata": {
    "collapsed": true
   },
   "source": [
    "The Rating column for row 10472 has the entry 19 as a reult of the rest of the data being shifted to the right. The maximum rating is 5 which makes it incorrect."
   ]
  },
  {
   "cell_type": "code",
   "execution_count": 6,
   "metadata": {
    "collapsed": true
   },
   "outputs": [],
   "source": [
    "# Deleting the row with an error\n",
    "del Google_data[10473]\n"
   ]
  },
  {
   "cell_type": "code",
   "execution_count": 7,
   "metadata": {
    "collapsed": false
   },
   "outputs": [
    {
     "name": "stdout",
     "output_type": "stream",
     "text": [
      "10841\n",
      "10840\n"
     ]
    }
   ],
   "source": [
    "# With the header row\n",
    "print(len(Google_data))\n",
    "\n",
    "# Without the header row\n",
    "print(len(Google_data[1:]))"
   ]
  },
  {
   "cell_type": "markdown",
   "metadata": {},
   "source": [
    "After exploring the Google play data set extensively there are instances that certain apps have duplicate entries for instance Instagram below."
   ]
  },
  {
   "cell_type": "code",
   "execution_count": 8,
   "metadata": {
    "collapsed": false
   },
   "outputs": [
    {
     "name": "stdout",
     "output_type": "stream",
     "text": [
      "['Instagram', 'SOCIAL', '4.5', '66577313', 'Varies with device', '1,000,000,000+', 'Free', '0', 'Teen', 'Social', 'July 31, 2018', 'Varies with device', 'Varies with device']\n",
      "['Instagram', 'SOCIAL', '4.5', '66577446', 'Varies with device', '1,000,000,000+', 'Free', '0', 'Teen', 'Social', 'July 31, 2018', 'Varies with device', 'Varies with device']\n",
      "['Instagram', 'SOCIAL', '4.5', '66577313', 'Varies with device', '1,000,000,000+', 'Free', '0', 'Teen', 'Social', 'July 31, 2018', 'Varies with device', 'Varies with device']\n",
      "['Instagram', 'SOCIAL', '4.5', '66509917', 'Varies with device', '1,000,000,000+', 'Free', '0', 'Teen', 'Social', 'July 31, 2018', 'Varies with device', 'Varies with device']\n"
     ]
    }
   ],
   "source": [
    "for app in Google_data[1:]:\n",
    "    name = app[0]\n",
    "    if name == 'Instagram':\n",
    "        print(app)"
   ]
  },
  {
   "cell_type": "code",
   "execution_count": 9,
   "metadata": {
    "collapsed": false
   },
   "outputs": [
    {
     "name": "stdout",
     "output_type": "stream",
     "text": [
      "Number of duplicate apps: 1181\n",
      "\n",
      "\n",
      "Examples of duplicate apps: ['Quick PDF Scanner + OCR FREE', 'Box', 'Google My Business', 'ZOOM Cloud Meetings', 'join.me - Simple Meetings', 'Box', 'Zenefits', 'Google Ads', 'Google My Business', 'Slack', 'FreshBooks Classic', 'Insightly CRM', 'QuickBooks Accounting: Invoicing & Expenses', 'HipChat - Chat Built for Teams', 'Xero Accounting Software']\n"
     ]
    }
   ],
   "source": [
    "# counting the number of duplicate apps\n",
    "duplicate_apps = []\n",
    "unique_apps = []\n",
    "\n",
    "for app in Google_data[1:]:\n",
    "    name = app[0]\n",
    "    if name in unique_apps:\n",
    "        duplicate_apps.append(name)\n",
    "    else:\n",
    "        unique_apps.append(name)\n",
    "    \n",
    "print('Number of duplicate apps:', len(duplicate_apps))\n",
    "print('\\n')\n",
    "print('Examples of duplicate apps:', duplicate_apps[:15])"
   ]
  },
  {
   "cell_type": "markdown",
   "metadata": {},
   "source": [
    "Certain duplicate apps can be removed randomly however from observing the rows of a duplicate app for instance Instagram the number of reviews collected for the app is unique as a result of being collected at different times. This will serve as the criteria for retaining a row and discarding duplicates. The highest number of reviews for given set of duplicate rows will ensure that the row with the most reliable rating is kept.   "
   ]
  },
  {
   "cell_type": "code",
   "execution_count": 10,
   "metadata": {
    "collapsed": false
   },
   "outputs": [],
   "source": [
    "# removing duplicate rows using its maximum number of reviews\n",
    "\n",
    "reviews_max = {} \n",
    "\n",
    "for row in Google_data[1:]:\n",
    "    name = row[0]\n",
    "    n_reviews = float(row[3])\n",
    "    if name in reviews_max and reviews_max[name] < n_reviews:\n",
    "        reviews_max[name] = n_reviews\n",
    "    elif name not in reviews_max:\n",
    "        reviews_max[name] = n_reviews\n"
   ]
  },
  {
   "cell_type": "code",
   "execution_count": 11,
   "metadata": {
    "collapsed": false
   },
   "outputs": [
    {
     "name": "stdout",
     "output_type": "stream",
     "text": [
      "Number of apps without duplicates:  9659\n",
      "Number of unique apps stored in maximum reviews dictionary:  9659\n"
     ]
    }
   ],
   "source": [
    "# exploring the dictorany to verify the expected number of unique apps\n",
    "\n",
    "print('Number of apps without duplicates: ', len(Google_data[1:]) - 1181)\n",
    "print('Number of unique apps stored in maximum reviews dictionary: ', len(reviews_max))"
   ]
  },
  {
   "cell_type": "code",
   "execution_count": 12,
   "metadata": {
    "collapsed": false
   },
   "outputs": [],
   "source": [
    "# removing duplicate rows and storing the data in lists\n",
    "\n",
    "android_clean = []\n",
    "already_added = []\n",
    "\n",
    "for row in Google_data[1:]:\n",
    "    name = row[0]\n",
    "    n_reviews = float(row[3])\n",
    "    if (n_reviews == reviews_max[name]) and (name not in already_added):\n",
    "        android_clean.append(row)\n",
    "        already_added.append(name)\n",
    "\n"
   ]
  },
  {
   "cell_type": "code",
   "execution_count": 13,
   "metadata": {
    "collapsed": false
   },
   "outputs": [
    {
     "name": "stdout",
     "output_type": "stream",
     "text": [
      "['Photo Editor & Candy Camera & Grid & ScrapBook', 'ART_AND_DESIGN', '4.1', '159', '19M', '10,000+', 'Free', '0', 'Everyone', 'Art & Design', 'January 7, 2018', '1.0.0', '4.0.3 and up']\n",
      "\n",
      "\n",
      "['U Launcher Lite – FREE Live Cool Themes, Hide Apps', 'ART_AND_DESIGN', '4.7', '87510', '8.7M', '5,000,000+', 'Free', '0', 'Everyone', 'Art & Design', 'August 1, 2018', '1.2.4', '4.0.3 and up']\n",
      "\n",
      "\n",
      "['Sketch - Draw & Paint', 'ART_AND_DESIGN', '4.5', '215644', '25M', '50,000,000+', 'Free', '0', 'Teen', 'Art & Design', 'June 8, 2018', 'Varies with device', '4.2 and up']\n",
      "\n",
      "\n",
      "Number of rows: 9659\n",
      "Number of columns: 13\n"
     ]
    }
   ],
   "source": [
    "# exploring the stored non duplicate data set\n",
    "explore_data(android_clean, 0, 3, True)"
   ]
  },
  {
   "cell_type": "markdown",
   "metadata": {},
   "source": [
    "The android_clean data list has 9659 rows as expected"
   ]
  },
  {
   "cell_type": "code",
   "execution_count": 14,
   "metadata": {
    "collapsed": true
   },
   "outputs": [],
   "source": [
    "# detecting English character strings\n",
    "def eng_string(input_string):\n",
    "    for character in input_string:\n",
    "        if ord(character) > 127:\n",
    "            return False\n",
    "    return True\n",
    "        "
   ]
  },
  {
   "cell_type": "code",
   "execution_count": 15,
   "metadata": {
    "collapsed": false
   },
   "outputs": [
    {
     "name": "stdout",
     "output_type": "stream",
     "text": [
      "True\n",
      "False\n",
      "False\n",
      "False\n"
     ]
    }
   ],
   "source": [
    "print(eng_string('Instagram'))\n",
    "print(eng_string('爱奇艺PPS -《欢乐颂2》电视剧热播'))\n",
    "print(eng_string('Docs To Go™ Free Office Suite'))\n",
    "print(eng_string('Instachat 😜'))"
   ]
  },
  {
   "cell_type": "code",
   "execution_count": 16,
   "metadata": {
    "collapsed": false
   },
   "outputs": [
    {
     "name": "stdout",
     "output_type": "stream",
     "text": [
      "True\n",
      "True\n",
      "False\n"
     ]
    }
   ],
   "source": [
    "# removing non-Engish app names from the data sets\n",
    "\n",
    "def eng_string2(input_string):\n",
    "    char_count = 0\n",
    "    for character in input_string:\n",
    "        if ord(character) > 127:\n",
    "            char_count += 1\n",
    "            \n",
    "    if char_count > 3:\n",
    "        return False\n",
    "    else:\n",
    "        return True\n",
    "    \n",
    "print(eng_string2('Docs To Go™ Free Office Suite'))\n",
    "print(eng_string2('Instachat 😜')) \n",
    "print(eng_string2('爱奇艺PPS -《欢乐颂2》电视剧热播'))"
   ]
  },
  {
   "cell_type": "code",
   "execution_count": 17,
   "metadata": {
    "collapsed": false
   },
   "outputs": [
    {
     "name": "stdout",
     "output_type": "stream",
     "text": [
      "['Photo Editor & Candy Camera & Grid & ScrapBook', 'ART_AND_DESIGN', '4.1', '159', '19M', '10,000+', 'Free', '0', 'Everyone', 'Art & Design', 'January 7, 2018', '1.0.0', '4.0.3 and up']\n",
      "\n",
      "\n",
      "['U Launcher Lite – FREE Live Cool Themes, Hide Apps', 'ART_AND_DESIGN', '4.7', '87510', '8.7M', '5,000,000+', 'Free', '0', 'Everyone', 'Art & Design', 'August 1, 2018', '1.2.4', '4.0.3 and up']\n",
      "\n",
      "\n",
      "['Sketch - Draw & Paint', 'ART_AND_DESIGN', '4.5', '215644', '25M', '50,000,000+', 'Free', '0', 'Teen', 'Art & Design', 'June 8, 2018', 'Varies with device', '4.2 and up']\n",
      "\n",
      "\n",
      "Number of rows: 9614\n",
      "Number of columns: 13\n",
      "\n",
      "\n",
      "['284882215', 'Facebook', '389879808', 'USD', '0.0', '2974676', '212', '3.5', '3.5', '95.0', '4+', 'Social Networking', '37', '1', '29', '1']\n",
      "\n",
      "\n",
      "['389801252', 'Instagram', '113954816', 'USD', '0.0', '2161558', '1289', '4.5', '4.0', '10.23', '12+', 'Photo & Video', '37', '0', '29', '1']\n",
      "\n",
      "\n",
      "['529479190', 'Clash of Clans', '116476928', 'USD', '0.0', '2130805', '579', '4.5', '4.5', '9.24.12', '9+', 'Games', '38', '5', '18', '1']\n",
      "\n",
      "\n",
      "Number of rows: 6183\n",
      "Number of columns: 16\n"
     ]
    }
   ],
   "source": [
    "# storing only English apps in two lists\n",
    "\n",
    "eng_apps_Google = []\n",
    "eng_apps_Apple = []\n",
    "\n",
    "for row in android_clean:\n",
    "    app = row[0]\n",
    "    if eng_string2(app):\n",
    "        eng_apps_Google.append(row)\n",
    "\n",
    "for row in Apple_data[1:]:\n",
    "    app = row[1]\n",
    "    if eng_string2(app):\n",
    "        eng_apps_Apple.append(row)\n",
    "        \n",
    "# exploring number of rows left for each data set\n",
    "explore_data(eng_apps_Google, 0, 3, True)\n",
    "print('\\n')\n",
    "explore_data(eng_apps_Apple, 0, 3, True)\n",
    "    "
   ]
  },
  {
   "cell_type": "markdown",
   "metadata": {},
   "source": [
    "We can see that we're left with 9614 Android apps and 6183 iOS apps."
   ]
  },
  {
   "cell_type": "code",
   "execution_count": 18,
   "metadata": {
    "collapsed": false
   },
   "outputs": [
    {
     "name": "stdout",
     "output_type": "stream",
     "text": [
      "['App', 'Category', 'Rating', 'Reviews', 'Size', 'Installs', 'Type', 'Price', 'Content Rating', 'Genres', 'Last Updated', 'Current Ver', 'Android Ver']\n",
      "['id', 'track_name', 'size_bytes', 'currency', 'price', 'rating_count_tot', 'rating_count_ver', 'user_rating', 'user_rating_ver', 'ver', 'cont_rating', 'prime_genre', 'sup_devices.num', 'ipadSc_urls.num', 'lang.num', 'vpp_lic']\n"
     ]
    }
   ],
   "source": [
    "# finding the index for price in both data sets\n",
    "print(Google_data[0])\n",
    "print(Apple_data[0])"
   ]
  },
  {
   "cell_type": "code",
   "execution_count": 19,
   "metadata": {
    "collapsed": false
   },
   "outputs": [
    {
     "name": "stdout",
     "output_type": "stream",
     "text": [
      "Number of free Google apps:  8864\n",
      "Number of free Apple apps:  3222\n"
     ]
    }
   ],
   "source": [
    "# storing free apps in a list\n",
    "\n",
    "Google_free_apps = []\n",
    "Apple_free_apps = []\n",
    "\n",
    "for row in eng_apps_Google:\n",
    "    price = row[7]\n",
    "    if price == '0':\n",
    "        Google_free_apps.append(row)\n",
    "        \n",
    "for row in eng_apps_Apple:\n",
    "    price = row[4]\n",
    "    if price == '0.0':\n",
    "        Apple_free_apps.append(row)\n",
    "        \n",
    "print('Number of free Google apps: ', len(Google_free_apps))\n",
    "print('Number of free Apple apps: ', len(Apple_free_apps))"
   ]
  },
  {
   "cell_type": "markdown",
   "metadata": {},
   "source": [
    "There are 8864 Google android apps and 3222 Apple iOS apps left for analysis"
   ]
  },
  {
   "cell_type": "markdown",
   "metadata": {},
   "source": [
    "* Since the company deals with free downloadable apps and generates revenue from ads run on those apps it is beneficial to find an app profile that fits the criteria of being popularly used on both Google Play and the Apple Store. The validation stratergy for an app idea comprises of building a minimal android version of the app and testing it on Google Play for responses from users. If the responses are good we develop the app further and if it has made profits after six months an iOS version is built for the App Store. \n",
    "\n",
    "* For the Google android data sets the columns that can be used to find the most common genres in each market are Category, Rating, Reviews, Installs, Price and Genres. For Apple iOS the columns are price, rating_count_tot, user_rating, cont_rating and prime_genre. \n",
    "\n",
    "\n",
    "\n",
    "\n"
   ]
  },
  {
   "cell_type": "code",
   "execution_count": 20,
   "metadata": {
    "collapsed": false
   },
   "outputs": [
    {
     "name": "stdout",
     "output_type": "stream",
     "text": [
      "Games : 58.16263190564867\n",
      "Entertainment : 7.883302296710118\n",
      "Photo & Video : 4.9658597144630665\n",
      "Education : 3.662321539416512\n",
      "Social Networking : 3.2898820608317814\n",
      "Shopping : 2.60707635009311\n",
      "Utilities : 2.5139664804469275\n",
      "Sports : 2.1415270018621975\n",
      "Music : 2.0484171322160147\n",
      "Health & Fitness : 2.0173805090006205\n",
      "Productivity : 1.7380509000620732\n",
      "Lifestyle : 1.5828677839851024\n",
      "News : 1.3345747982619491\n",
      "Travel : 1.2414649286157666\n",
      "Finance : 1.1173184357541899\n",
      "Weather : 0.8690254500310366\n",
      "Food & Drink : 0.8069522036002483\n",
      "Reference : 0.5586592178770949\n",
      "Business : 0.5276225946617008\n",
      "Book : 0.4345127250155183\n",
      "Navigation : 0.186219739292365\n",
      "Medical : 0.186219739292365\n",
      "Catalogs : 0.12414649286157665\n"
     ]
    }
   ],
   "source": [
    "# creating a frequency table in decending order\n",
    "\n",
    "def freq_table(dataset, index): # percent frequency table\n",
    "    table = { }\n",
    "    count = 0\n",
    "    for row in dataset:\n",
    "        data = row[index]\n",
    "        if data in table:\n",
    "            table[data] += 1\n",
    "        else:\n",
    "            table[data] = 1\n",
    "        count+= 1 \n",
    "    #print(count)\n",
    "    #print(len(table))\n",
    "    \n",
    "    percentage_table = { }\n",
    "    for key in table:\n",
    "        #freq_table[key] *= 100 / len(freq_table) \n",
    "        percentage = (table[key] / count) * 100\n",
    "        percentage_table[key] = percentage\n",
    "        \n",
    "    #print(len(percentage_table))    \n",
    "    return percentage_table\n",
    "            \n",
    "def display_table(dataset, index):\n",
    "    table = freq_table(dataset, index)\n",
    "    table_display = []\n",
    "    for key in table:\n",
    "        key_val_as_tuple = (table[key], key)\n",
    "        table_display.append(key_val_as_tuple)\n",
    "\n",
    "    table_sorted = sorted(table_display, reverse = True)\n",
    "    for entry in table_sorted:\n",
    "        print(entry[1], ':', entry[0])\n",
    "display_table(Apple_free_apps, -5)"
   ]
  },
  {
   "cell_type": "markdown",
   "metadata": {
    "collapsed": true
   },
   "source": [
    "The most common genre is Games with 58.2% followed by Entertainment by 7.9%. More than half of the genre of apps in the App store belongs to Games while the other 41.8% belongs to other genres each of which were below 10%. The general impression is that most apps in the App store are used for fun (games, entertainment, photo and video, social networking, sports, music, etc.). Recomendations of an app profile based on the frequency table alone will be inaccurate. consideration has to be given to rating count as their demand might vary. "
   ]
  },
  {
   "cell_type": "code",
   "execution_count": 21,
   "metadata": {
    "collapsed": false
   },
   "outputs": [
    {
     "name": "stdout",
     "output_type": "stream",
     "text": [
      "FAMILY : 18.907942238267147\n",
      "GAME : 9.724729241877256\n",
      "TOOLS : 8.461191335740072\n",
      "BUSINESS : 4.591606498194946\n",
      "LIFESTYLE : 3.9034296028880866\n",
      "PRODUCTIVITY : 3.892148014440433\n",
      "FINANCE : 3.7003610108303246\n",
      "MEDICAL : 3.531137184115524\n",
      "SPORTS : 3.395758122743682\n",
      "PERSONALIZATION : 3.3167870036101084\n",
      "COMMUNICATION : 3.2378158844765346\n",
      "HEALTH_AND_FITNESS : 3.0798736462093865\n",
      "PHOTOGRAPHY : 2.944494584837545\n",
      "NEWS_AND_MAGAZINES : 2.7978339350180503\n",
      "SOCIAL : 2.6624548736462095\n",
      "TRAVEL_AND_LOCAL : 2.33528880866426\n",
      "SHOPPING : 2.2450361010830324\n",
      "BOOKS_AND_REFERENCE : 2.1435018050541514\n",
      "DATING : 1.861462093862816\n",
      "VIDEO_PLAYERS : 1.7937725631768955\n",
      "MAPS_AND_NAVIGATION : 1.3989169675090252\n",
      "FOOD_AND_DRINK : 1.2409747292418771\n",
      "EDUCATION : 1.1620036101083033\n",
      "ENTERTAINMENT : 0.9589350180505415\n",
      "LIBRARIES_AND_DEMO : 0.9363718411552346\n",
      "AUTO_AND_VEHICLES : 0.9250902527075812\n",
      "HOUSE_AND_HOME : 0.8235559566787004\n",
      "WEATHER : 0.8009927797833934\n",
      "EVENTS : 0.7107400722021661\n",
      "PARENTING : 0.6543321299638989\n",
      "ART_AND_DESIGN : 0.6430505415162455\n",
      "COMICS : 0.6204873646209386\n",
      "BEAUTY : 0.5979241877256317\n"
     ]
    }
   ],
   "source": [
    "# frequency table for Category column\n",
    "display_table(Google_free_apps, 1)"
   ]
  },
  {
   "cell_type": "code",
   "execution_count": 22,
   "metadata": {
    "collapsed": false
   },
   "outputs": [
    {
     "name": "stdout",
     "output_type": "stream",
     "text": [
      "Tools : 8.449909747292418\n",
      "Entertainment : 6.069494584837545\n",
      "Education : 5.347472924187725\n",
      "Business : 4.591606498194946\n",
      "Productivity : 3.892148014440433\n",
      "Lifestyle : 3.892148014440433\n",
      "Finance : 3.7003610108303246\n",
      "Medical : 3.531137184115524\n",
      "Sports : 3.463447653429603\n",
      "Personalization : 3.3167870036101084\n",
      "Communication : 3.2378158844765346\n",
      "Action : 3.1024368231046933\n",
      "Health & Fitness : 3.0798736462093865\n",
      "Photography : 2.944494584837545\n",
      "News & Magazines : 2.7978339350180503\n",
      "Social : 2.6624548736462095\n",
      "Travel & Local : 2.3240072202166067\n",
      "Shopping : 2.2450361010830324\n",
      "Books & Reference : 2.1435018050541514\n",
      "Simulation : 2.0419675090252705\n",
      "Dating : 1.861462093862816\n",
      "Arcade : 1.8501805054151623\n",
      "Video Players & Editors : 1.7712093862815883\n",
      "Casual : 1.7599277978339352\n",
      "Maps & Navigation : 1.3989169675090252\n",
      "Food & Drink : 1.2409747292418771\n",
      "Puzzle : 1.128158844765343\n",
      "Racing : 0.9927797833935018\n",
      "Role Playing : 0.9363718411552346\n",
      "Libraries & Demo : 0.9363718411552346\n",
      "Auto & Vehicles : 0.9250902527075812\n",
      "Strategy : 0.9138086642599278\n",
      "House & Home : 0.8235559566787004\n",
      "Weather : 0.8009927797833934\n",
      "Events : 0.7107400722021661\n",
      "Adventure : 0.6768953068592057\n",
      "Comics : 0.6092057761732852\n",
      "Beauty : 0.5979241877256317\n",
      "Art & Design : 0.5979241877256317\n",
      "Parenting : 0.4963898916967509\n",
      "Card : 0.45126353790613716\n",
      "Casino : 0.42870036101083037\n",
      "Trivia : 0.41741877256317694\n",
      "Educational;Education : 0.39485559566787\n",
      "Board : 0.3835740072202166\n",
      "Educational : 0.3722924187725632\n",
      "Education;Education : 0.33844765342960287\n",
      "Word : 0.2594765342960289\n",
      "Casual;Pretend Play : 0.236913357400722\n",
      "Music : 0.2030685920577617\n",
      "Racing;Action & Adventure : 0.16922382671480143\n",
      "Puzzle;Brain Games : 0.16922382671480143\n",
      "Entertainment;Music & Video : 0.16922382671480143\n",
      "Casual;Brain Games : 0.13537906137184114\n",
      "Casual;Action & Adventure : 0.13537906137184114\n",
      "Arcade;Action & Adventure : 0.12409747292418773\n",
      "Action;Action & Adventure : 0.10153429602888085\n",
      "Educational;Pretend Play : 0.09025270758122744\n",
      "Simulation;Action & Adventure : 0.078971119133574\n",
      "Parenting;Education : 0.078971119133574\n",
      "Entertainment;Brain Games : 0.078971119133574\n",
      "Board;Brain Games : 0.078971119133574\n",
      "Parenting;Music & Video : 0.06768953068592057\n",
      "Educational;Brain Games : 0.06768953068592057\n",
      "Casual;Creativity : 0.06768953068592057\n",
      "Art & Design;Creativity : 0.06768953068592057\n",
      "Education;Pretend Play : 0.056407942238267145\n",
      "Role Playing;Pretend Play : 0.04512635379061372\n",
      "Education;Creativity : 0.04512635379061372\n",
      "Role Playing;Action & Adventure : 0.033844765342960284\n",
      "Puzzle;Action & Adventure : 0.033844765342960284\n",
      "Entertainment;Creativity : 0.033844765342960284\n",
      "Entertainment;Action & Adventure : 0.033844765342960284\n",
      "Educational;Creativity : 0.033844765342960284\n",
      "Educational;Action & Adventure : 0.033844765342960284\n",
      "Education;Music & Video : 0.033844765342960284\n",
      "Education;Brain Games : 0.033844765342960284\n",
      "Education;Action & Adventure : 0.033844765342960284\n",
      "Adventure;Action & Adventure : 0.033844765342960284\n",
      "Video Players & Editors;Music & Video : 0.02256317689530686\n",
      "Sports;Action & Adventure : 0.02256317689530686\n",
      "Simulation;Pretend Play : 0.02256317689530686\n",
      "Puzzle;Creativity : 0.02256317689530686\n",
      "Music;Music & Video : 0.02256317689530686\n",
      "Entertainment;Pretend Play : 0.02256317689530686\n",
      "Casual;Education : 0.02256317689530686\n",
      "Board;Action & Adventure : 0.02256317689530686\n",
      "Video Players & Editors;Creativity : 0.01128158844765343\n",
      "Trivia;Education : 0.01128158844765343\n",
      "Travel & Local;Action & Adventure : 0.01128158844765343\n",
      "Tools;Education : 0.01128158844765343\n",
      "Strategy;Education : 0.01128158844765343\n",
      "Strategy;Creativity : 0.01128158844765343\n",
      "Strategy;Action & Adventure : 0.01128158844765343\n",
      "Simulation;Education : 0.01128158844765343\n",
      "Role Playing;Brain Games : 0.01128158844765343\n",
      "Racing;Pretend Play : 0.01128158844765343\n",
      "Puzzle;Education : 0.01128158844765343\n",
      "Parenting;Brain Games : 0.01128158844765343\n",
      "Music & Audio;Music & Video : 0.01128158844765343\n",
      "Lifestyle;Pretend Play : 0.01128158844765343\n",
      "Lifestyle;Education : 0.01128158844765343\n",
      "Health & Fitness;Education : 0.01128158844765343\n",
      "Health & Fitness;Action & Adventure : 0.01128158844765343\n",
      "Entertainment;Education : 0.01128158844765343\n",
      "Communication;Creativity : 0.01128158844765343\n",
      "Comics;Creativity : 0.01128158844765343\n",
      "Casual;Music & Video : 0.01128158844765343\n",
      "Card;Action & Adventure : 0.01128158844765343\n",
      "Books & Reference;Education : 0.01128158844765343\n",
      "Art & Design;Pretend Play : 0.01128158844765343\n",
      "Art & Design;Action & Adventure : 0.01128158844765343\n",
      "Arcade;Pretend Play : 0.01128158844765343\n",
      "Adventure;Education : 0.01128158844765343\n"
     ]
    }
   ],
   "source": [
    "# frequency table for Genre column\n",
    "display_table(Google_free_apps, -4)"
   ]
  },
  {
   "cell_type": "markdown",
   "metadata": {},
   "source": [
    "The most common genres for the columns are family and tools. The next most common app for the Category column games is about half of the number of family apps 18.9% on Google play at 9.7%. The frequencies for the genres of apps for Google Store are evenly distributed compared to that of the App Store. Also, App store have more genre of apps that are for fun compared to Google play apps that have an even distribution of apps for practical use and fun. Recommendations for app development cannot be done without further expolring other factors that indicate the demand patterns of users like the number of users or number of downloads and ratings of the app.    "
   ]
  },
  {
   "cell_type": "code",
   "execution_count": 23,
   "metadata": {
    "collapsed": false
   },
   "outputs": [
    {
     "name": "stdout",
     "output_type": "stream",
     "text": [
      "Finance : 31467.944444444445\n",
      "News : 21248.023255813954\n",
      "Reference : 74942.11111111111\n",
      "Navigation : 86090.33333333333\n",
      "Sports : 23008.898550724636\n",
      "Music : 57326.530303030304\n",
      "Lifestyle : 16485.764705882353\n",
      "Entertainment : 14029.830708661417\n",
      "Travel : 28243.8\n",
      "Productivity : 21028.410714285714\n",
      "Weather : 52279.892857142855\n",
      "Utilities : 18684.456790123455\n",
      "Catalogs : 4004.0\n",
      "Education : 7003.983050847458\n",
      "Health & Fitness : 23298.015384615384\n",
      "Shopping : 26919.690476190477\n",
      "Food & Drink : 33333.92307692308\n",
      "Social Networking : 71548.34905660378\n",
      "Book : 39758.5\n",
      "Photo & Video : 28441.54375\n",
      "Medical : 612.0\n",
      "Games : 22788.6696905016\n",
      "Business : 7491.117647058823\n"
     ]
    }
   ],
   "source": [
    "# finding the most popular apps on Apple Store by genre\n",
    "\n",
    "genres_app_store = freq_table(Apple_free_apps, -5)\n",
    "\n",
    "for genre in genres_app_store:\n",
    "    total = 0\n",
    "    len_genre = 0\n",
    "    for row in Apple_free_apps:\n",
    "        genre_app = row[-5]\n",
    "        if genre_app == genre:\n",
    "            n_ratings = float(row[5])\n",
    "            total += n_ratings\n",
    "            len_genre += 1\n",
    "    avg_n_ratings =  total / len_genre\n",
    "    print(genre, ':', avg_n_ratings)\n",
    "    \n",
    "\n"
   ]
  },
  {
   "cell_type": "markdown",
   "metadata": {},
   "source": [
    "Navigation apps have the largest number of user ratings followed by Social networking apps. Since the App Store predominantly has more fun apps perhaps the company can design Social networking apps. Reference apps can also be designed as well since they have the second highest number of reviews. \n",
    "\n",
    "A social networking app for instance Facebook can be designed with the capability of peharps having fun features like a music widget or video chat capabilities or even widgets for navigation or references like for news articles or an encyclopedia to get the maximum engagement with the app that the company needs for its free downloadable app."
   ]
  },
  {
   "cell_type": "code",
   "execution_count": 30,
   "metadata": {
    "collapsed": false
   },
   "outputs": [
    {
     "name": "stdout",
     "output_type": "stream",
     "text": [
      "NEWS_AND_MAGAZINES : 9549178.467741935\n",
      "DATING : 854028.8303030303\n",
      "MEDICAL : 120550.61980830671\n",
      "LIBRARIES_AND_DEMO : 638503.734939759\n",
      "EVENTS : 253542.22222222222\n",
      "VIDEO_PLAYERS : 24727872.452830188\n",
      "BUSINESS : 1712290.1474201474\n",
      "EDUCATION : 1833495.145631068\n",
      "WEATHER : 5074486.197183099\n",
      "COMMUNICATION : 38456119.167247385\n",
      "HOUSE_AND_HOME : 1331540.5616438356\n",
      "TRAVEL_AND_LOCAL : 13984077.710144928\n",
      "HEALTH_AND_FITNESS : 4188821.9853479853\n",
      "FINANCE : 1387692.475609756\n",
      "PARENTING : 542603.6206896552\n",
      "TOOLS : 10801391.298666667\n",
      "PERSONALIZATION : 5201482.6122448975\n",
      "BEAUTY : 513151.88679245283\n",
      "BOOKS_AND_REFERENCE : 8767811.894736841\n",
      "AUTO_AND_VEHICLES : 647317.8170731707\n",
      "ART_AND_DESIGN : 1986335.0877192982\n",
      "GAME : 15588015.603248259\n",
      "PRODUCTIVITY : 16787331.344927534\n",
      "PHOTOGRAPHY : 17840110.40229885\n",
      "SOCIAL : 23253652.127118643\n",
      "LIFESTYLE : 1437816.2687861272\n",
      "SPORTS : 3638640.1428571427\n",
      "SHOPPING : 7036877.311557789\n",
      "COMICS : 817657.2727272727\n",
      "ENTERTAINMENT : 11640705.88235294\n",
      "FOOD_AND_DRINK : 1924897.7363636363\n",
      "FAMILY : 3695641.8198090694\n",
      "MAPS_AND_NAVIGATION : 4056941.7741935486\n"
     ]
    }
   ],
   "source": [
    "# finding the average number of installs per genre for Google play\n",
    "\n",
    "freq_google_data = freq_table(Google_free_apps, 1)\n",
    "\n",
    "for category in freq_google_data:\n",
    "    total = 0\n",
    "    len_category = 0\n",
    "    for app in Google_free_apps:\n",
    "        category_app = app[1]\n",
    "        if category_app == category:\n",
    "            n_installs = app[5]\n",
    "            n_installs = n_installs.replace(',', '')\n",
    "            n_installs = n_installs.replace('+', '')\n",
    "            total += float(n_installs)\n",
    "            len_category += 1\n",
    "    ave_n_installs = total / len_category\n",
    "    print(category, ':', ave_n_installs)\n",
    "    \n"
   ]
  },
  {
   "cell_type": "markdown",
   "metadata": {
    "collapsed": true
   },
   "source": [
    "Communication apps for Google play have the highest number of installs with popular apps like Facebook, Skype, Whatsapp and messanger. Social apps are the next popular apps followed by Entertainment apps. Since fun apps more that function apps are popular on both Google play and the App Store an app recomendation for both platforms can be a social networking site that has functionality of engaging users by having communication capabilities like video chat and instant messaging.\n",
    "\n",
    "Another option might be designing a functional app like a navigational app or an educational app that the users can engage with. A free language app or sports app can be engaging enough to run the company's ads. "
   ]
  }
 ],
 "metadata": {
  "kernelspec": {
   "display_name": "Python 3",
   "language": "python",
   "name": "python3"
  },
  "language_info": {
   "codemirror_mode": {
    "name": "ipython",
    "version": 3
   },
   "file_extension": ".py",
   "mimetype": "text/x-python",
   "name": "python",
   "nbconvert_exporter": "python",
   "pygments_lexer": "ipython3",
   "version": "3.4.3"
  }
 },
 "nbformat": 4,
 "nbformat_minor": 2
}
